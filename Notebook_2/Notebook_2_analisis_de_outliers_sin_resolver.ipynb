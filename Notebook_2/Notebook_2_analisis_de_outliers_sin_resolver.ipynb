{
  "nbformat": 4,
  "nbformat_minor": 0,
  "metadata": {
    "colab": {
      "name": "Notebook_2_analisis_de_outliers_sin_resolver.ipynb",
      "provenance": [],
      "collapsed_sections": [
        "bgzYFcVPuWY3",
        "s3C_pKcKuWY6",
        "xq6lGtwguWY8",
        "YABDOe7euWZF",
        "9UyAB3xVuWZ2",
        "V7C7vED0uWZ3"
      ],
      "toc_visible": true
    },
    "kernelspec": {
      "display_name": "Python 3",
      "language": "python",
      "name": "python3"
    },
    "language_info": {
      "codemirror_mode": {
        "name": "ipython",
        "version": 3
      },
      "file_extension": ".py",
      "mimetype": "text/x-python",
      "name": "python",
      "nbconvert_exporter": "python",
      "pygments_lexer": "ipython3",
      "version": "3.7.6"
    }
  },
  "cells": [
    {
      "cell_type": "markdown",
      "metadata": {
        "id": "GK4n7pgjuWXZ"
      },
      "source": [
        "# Imports\n",
        "\n",
        "Llevamos a cabo los imports necesarios para realizar los ejercicios de esta sección"
      ]
    },
    {
      "cell_type": "code",
      "metadata": {
        "id": "BLTzuQbDueel"
      },
      "source": [
        "!pip install h2o"
      ],
      "execution_count": null,
      "outputs": []
    },
    {
      "cell_type": "code",
      "metadata": {
        "id": "QAjr49HKuWXf"
      },
      "source": [
        "import numpy as np \n",
        "import pandas as pd \n",
        "\n",
        "import matplotlib.pyplot as plt\n",
        "import seaborn as sns\n",
        "import h2o\n",
        "from sklearn.preprocessing import RobustScaler\n",
        "from sklearn.ensemble import IsolationForest\n",
        "from sklearn.datasets import make_moons\n",
        "from sklearn.cluster import DBSCAN\n",
        "from sklearn.preprocessing import StandardScaler"
      ],
      "execution_count": null,
      "outputs": []
    },
    {
      "cell_type": "markdown",
      "metadata": {
        "id": "ZLPsTu9cuWXi"
      },
      "source": [
        "# Configuraciones\n",
        "\n",
        "Definimos una serie de configuraciones que nos sirvan para todo el notebook"
      ]
    },
    {
      "cell_type": "code",
      "metadata": {
        "id": "JJdEtcAKuWXl"
      },
      "source": [
        "np.random.seed(1993)\n",
        "%matplotlib inline"
      ],
      "execution_count": null,
      "outputs": []
    },
    {
      "cell_type": "markdown",
      "metadata": {
        "id": "SpPTgH6HuWXp"
      },
      "source": [
        "# Métodos paramétricos"
      ]
    },
    {
      "cell_type": "markdown",
      "metadata": {
        "id": "Vf9jsR5wuWXs"
      },
      "source": [
        "Para el estudio de estas técnicas de detección de outliers, vamos a emplear un conjunto de datos generados aleatoriamente, que cumplen con la premisa que marcan los métodos parametricos dee que los datos siguen una distribución normal"
      ]
    },
    {
      "cell_type": "code",
      "metadata": {
        "id": "tFuPg9_suWXy"
      },
      "source": [
        "numero_variables=4\n",
        "df_normal = pd.DataFrame(np.random.normal(scale=10.0, \n",
        "                                        size=(1000, numero_variables)),\n",
        "                           columns=['variable_{}'.format(i) for i in range(numero_variables)])\n",
        "df_normal.head()"
      ],
      "execution_count": null,
      "outputs": []
    },
    {
      "cell_type": "markdown",
      "metadata": {
        "id": "xukCD19JuWX1"
      },
      "source": [
        "Ahora vamos a mirar a sus histoigramas, podemos observar como efectivamente, siguen una distribución normal"
      ]
    },
    {
      "cell_type": "code",
      "metadata": {
        "id": "4Ofb8hDGuWX6"
      },
      "source": [
        "df_normal.hist(figsize=(10,10));"
      ],
      "execution_count": null,
      "outputs": []
    },
    {
      "cell_type": "markdown",
      "metadata": {
        "id": "A38hrpjzuWYA"
      },
      "source": [
        "## Identificación de outliers en nuestros datos"
      ]
    },
    {
      "cell_type": "markdown",
      "metadata": {
        "id": "gCgDbo-guWYC"
      },
      "source": [
        "Los metodos de detección de outliers parametricas más extendidos son:\n",
        "\n",
        "    - Detección empleando la desviación estandar.\n",
        "    - Detección empleando el rango interquantil.\n",
        "    \n",
        "Vamos a generar dos funciones que nos permitan calcular estos valores y aplicarlos sobre nuestras variables"
      ]
    },
    {
      "cell_type": "markdown",
      "metadata": {
        "id": "aadHGlTLuWYQ"
      },
      "source": [
        "### Metodo de la desviacion estandar"
      ]
    },
    {
      "cell_type": "code",
      "metadata": {
        "id": "VVWFJnOxuWYQ"
      },
      "source": [
        "def fuera_std(s, nstd=3.0, return_thresholds=False):\n",
        "    \"\"\"\n",
        "    Definir una funcion que devuelva si el punto de la variable se \n",
        "    encuentra dentro o fuera de la franja de desviación estandar \n",
        "    de la distribución de la variables.\n",
        "    Si return_thresholds es True se le pedirá que nos mande los \n",
        "    umbrales en los que está haciendo el corte\n",
        "    \"\"\"\n",
        "    ###"
      ],
      "execution_count": null,
      "outputs": []
    },
    {
      "cell_type": "code",
      "metadata": {
        "id": "JUp0g3Y9uWYS"
      },
      "source": [
        "outliers_std = fuera_std(df_normal.variable_0,3,False)"
      ],
      "execution_count": null,
      "outputs": []
    },
    {
      "cell_type": "code",
      "metadata": {
        "id": "ZpDMlqXQuWYU"
      },
      "source": [
        "plt.figure(figsize=(8,6))\n",
        "sns.distplot(df_normal['variable_0'], kde=False);\n",
        "plt.vlines(df_normal['variable_0'][outliers_std], \n",
        "           ymin=0, ymax=110, \n",
        "           linestyles='dashed');"
      ],
      "execution_count": null,
      "outputs": []
    },
    {
      "cell_type": "markdown",
      "metadata": {
        "id": "D6LLaCEkuWYW"
      },
      "source": [
        "### Metodo del rango interquartil"
      ]
    },
    {
      "cell_type": "code",
      "metadata": {
        "id": "CBnHzhzPuWYX"
      },
      "source": [
        "def fuera_iqr(s, \n",
        "              k=1.5, \n",
        "              return_thresholds=False):\n",
        "    \"\"\"\n",
        "   Calcula el IQR y lo multiplica por un k que define el \n",
        "   limite final para detectar outliers.\n",
        "    Si return_thresholds es True se le pedirá que nos mande los \n",
        "    umbrales en los que está haciendo el corte\n",
        "   \n",
        "    \"\"\"\n",
        "    # calcular IQR\n",
        "    q25, q75 = ###\n",
        "    iqr = ###\n",
        "    # calcular el corte de los outliers\n",
        "    cut_off = ###\n",
        "    limite_inferior, limite_superior = ###\n",
        "    if return_thresholds:\n",
        "        return limite_inferior, limite_superior\n",
        "    else: \n",
        "        return [True if x < limite_inferior or x > limite_superior else False for x in s]"
      ],
      "execution_count": null,
      "outputs": []
    },
    {
      "cell_type": "code",
      "metadata": {
        "id": "3YZAW5YMuWYY"
      },
      "source": [
        "outliers_iqr = fuera_iqr(df_normal.variable_0,1.5,False)"
      ],
      "execution_count": null,
      "outputs": []
    },
    {
      "cell_type": "code",
      "metadata": {
        "id": "yB3jzSlruWYa"
      },
      "source": [
        "plt.figure(figsize=(8,6))\n",
        "sns.distplot(df_normal['variable_0'], kde=False);\n",
        "plt.vlines(df_normal['variable_0'][outliers_iqr], \n",
        "           ymin=0, ymax=110, \n",
        "           linestyles='dashed');"
      ],
      "execution_count": null,
      "outputs": []
    },
    {
      "cell_type": "markdown",
      "metadata": {
        "id": "Kin0ceZ3uWYc"
      },
      "source": [
        "### Evolución del umbral en función de los multiplicadores que se atribuyan"
      ]
    },
    {
      "cell_type": "markdown",
      "metadata": {
        "id": "1ANvWRQJuWYd"
      },
      "source": [
        "Vamos a comprobar como varia el umbral con el que se corta a la distribución normal en función del multiplicador que se asocie a la desviación estandar o al rango interquantil"
      ]
    },
    {
      "cell_type": "code",
      "metadata": {
        "id": "OIbM2sFVuWYt"
      },
      "source": [
        "def plot_umbrales_std(dataframe, col, nstd=2.0, color='red'):\n",
        "    \"\"\"\n",
        "    Plot de los limites de umbrales\n",
        "    \"\"\"\n",
        "    inferior, superior = fuera_std(dataframe[col], nstd=nstd, return_thresholds=True)\n",
        "    plt.axvspan(min(dataframe[col][dataframe[col] < inferior], \n",
        "                    default=dataframe[col].min()), \n",
        "                inferior, \n",
        "                alpha=0.2, \n",
        "                color=color);\n",
        "    \n",
        "    plt.axvspan(superior, max(dataframe[col][dataframe[col] > superior],\n",
        "                           default=dataframe[col].max()), \n",
        "                alpha=0.2, \n",
        "                color=color);"
      ],
      "execution_count": null,
      "outputs": []
    },
    {
      "cell_type": "code",
      "metadata": {
        "id": "SPwENNIOuWYv"
      },
      "source": [
        "column = 'variable_0'\n",
        "sns.distplot(df_normal[column], kde=False)\n",
        "plot_umbrales_std(df_normal, column, nstd=2.0, color='red');\n",
        "plot_umbrales_std(df_normal, column, nstd=3.0, color='blue');\n",
        "plot_umbrales_std(df_normal, column, nstd=4.0, color='yellow');"
      ],
      "execution_count": null,
      "outputs": []
    },
    {
      "cell_type": "code",
      "metadata": {
        "id": "eC5yfw6juWYw"
      },
      "source": [
        "def plot_umbrales_iqr(dataframe, col, k=1.5, color='red'):\n",
        "    \"\"\"\n",
        "    Plot de los limites de umbrales\n",
        "    \"\"\"\n",
        "    inferior, superior = fuera_iqr(dataframe[col], k=k, return_thresholds=True)\n",
        "    \n",
        "    plt.axvspan(min(dataframe[col][dataframe[col] < inferior], \n",
        "                    default=dataframe[col].min()), \n",
        "                inferior, \n",
        "                alpha=0.2, \n",
        "                color=color);\n",
        "    \n",
        "    plt.axvspan(superior, max(dataframe[col][dataframe[col] > superior],\n",
        "                           default=dataframe[col].max()), \n",
        "                alpha=0.2, \n",
        "                color=color);"
      ],
      "execution_count": null,
      "outputs": []
    },
    {
      "cell_type": "code",
      "metadata": {
        "id": "OXHiGeA_uWYw"
      },
      "source": [
        "column = 'variable_0'\n",
        "sns.distplot(df_normal[column], kde=False)\n",
        "plot_umbrales_iqr(df_normal, column, k=1.5, color='red');\n",
        "plot_umbrales_iqr(df_normal, column, k=2.0, color='blue');\n",
        "plot_umbrales_iqr(df_normal, column, k=3.0, color='yellow');"
      ],
      "execution_count": null,
      "outputs": []
    },
    {
      "cell_type": "markdown",
      "metadata": {
        "id": "E44rDWgHuWYy"
      },
      "source": [
        "Podemos observar ocmo el IQR es mucho mas restrictivo que el metodo de la desviación"
      ]
    },
    {
      "cell_type": "markdown",
      "metadata": {
        "id": "VeGcOT2DuWYy"
      },
      "source": [
        "# Elaboración de gráficos Boxplot"
      ]
    },
    {
      "cell_type": "markdown",
      "metadata": {
        "id": "ZJo5c2fKuWY0"
      },
      "source": [
        "## Lectura de los datos\n",
        "\n",
        "Para el ejercicio de dibujar y trabajar ocn boxplot, emplearemos los datos de un dataset real que recoge cierta información sobre los coches que se están vendiendo en un portal web. este dataset recoge la sigueinte información:\n",
        "\n",
        "**- car:** marca del coche\n",
        "\n",
        "**- price:** precio de venta del anunciante (en dolares\n",
        "\n",
        "**- body:** tipo de coche\n",
        "\n",
        "**- mileage:** km que tiene el coche\n",
        "\n",
        "**- engV:** rounded engine volume (‘000 cubic cm)\n",
        "\n",
        "**- engType:** tipo de motor\n",
        "\n",
        "**- registration:** si el coche esta registrado a nivel nacional.\n",
        "\n",
        "**- year:** año de fabricación\n",
        "\n",
        "**- model:** modelo especifico de coche\n",
        "\n",
        "**- drive:** tipo de traccion\n"
      ]
    },
    {
      "cell_type": "code",
      "metadata": {
        "id": "uqd8IqLzuWY1"
      },
      "source": [
        "df_coches = pd.read_csv(\"https://raw.githubusercontent.com/jguijarh/The_Valley_outliers_and_residuals/main/anuncios-coche/car_ad.csv\", sep=',', encoding='latin-1')\n",
        "df_coches.head()"
      ],
      "execution_count": null,
      "outputs": []
    },
    {
      "cell_type": "markdown",
      "metadata": {
        "id": "QPzD4SnquWY2"
      },
      "source": [
        "A simple vista podemos ver como hay valores nulos y otros problemas que deberían solucionarse en una fase precia de EDA. Para no alargar el ejercicio ignoraremos estos pasos dado que no impactan directamente en lo que queremos realizar."
      ]
    },
    {
      "cell_type": "markdown",
      "metadata": {
        "id": "bgzYFcVPuWY3"
      },
      "source": [
        "### Calcular la antiguedad y los kilometros anuales \n",
        "\n",
        "Lo primero que vamos a realizar en este ejercicio es calcular dos variables que pueden ser interesantes:\n",
        "\n",
        "    - La antiguedad de los coches \n",
        "    - Las millas por año que han recorrido.\n",
        "    \n",
        "Eliminamos los coches nuevos para no meter ruido en los analisis futuros."
      ]
    },
    {
      "cell_type": "code",
      "metadata": {
        "id": "Vpi192sVuWY4",
        "outputId": "3a87ad8a-2a71-4965-a734-03df7316f48f",
        "colab": {
          "base_uri": "https://localhost:8080/",
          "height": 135
        }
      },
      "source": [
        "df_coches['antiguedad'] = ###\n",
        "df_coches['mileage_anio'] = ###\n",
        "df_coches = ###"
      ],
      "execution_count": 1,
      "outputs": [
        {
          "output_type": "error",
          "ename": "SyntaxError",
          "evalue": "ignored",
          "traceback": [
            "\u001b[0;36m  File \u001b[0;32m\"<ipython-input-1-ae65cb11a426>\"\u001b[0;36m, line \u001b[0;32m1\u001b[0m\n\u001b[0;31m    df_coches['antiguedad'] = ###\u001b[0m\n\u001b[0m                                 ^\u001b[0m\n\u001b[0;31mSyntaxError\u001b[0m\u001b[0;31m:\u001b[0m invalid syntax\n"
          ]
        }
      ]
    },
    {
      "cell_type": "markdown",
      "metadata": {
        "id": "5Au4GLOpuWY5"
      },
      "source": [
        "## Dibujar boxplot\n",
        "\n",
        "con los datos ya dispuestos, vamos a representar ciertas variables categoricas en función de otras numericas."
      ]
    },
    {
      "cell_type": "markdown",
      "metadata": {
        "id": "s3C_pKcKuWY6"
      },
      "source": [
        "#### Boxplot de tipo de motor vs antiguedad del vehiculo\n",
        "Llevar a cabo la representacion de boxplot teniendo en cuenta la variable tipo de motor y observar la antiguedad.\n",
        "\n",
        "Usaremos para este cometido la función boxplot de seaborn "
      ]
    },
    {
      "cell_type": "code",
      "metadata": {
        "id": "N_EGlUTWuWY7"
      },
      "source": [
        "plt.figure(figsize=(16, 10))\n",
        "###"
      ],
      "execution_count": null,
      "outputs": []
    },
    {
      "cell_type": "markdown",
      "metadata": {
        "id": "4wP7v03_uWY8"
      },
      "source": [
        "Analicemos los resultados."
      ]
    },
    {
      "cell_type": "markdown",
      "metadata": {
        "id": "xq6lGtwguWY8"
      },
      "source": [
        "### Millas anuales vs antiguedad del vehículo\n",
        "Llevar a cabo la representacion de boxplot teniendo en cuenta la agrupacion por la antiguedad de los coches"
      ]
    },
    {
      "cell_type": "code",
      "metadata": {
        "id": "cbs5prLiuWY9"
      },
      "source": [
        "plt.figure(figsize=(16, 10))\n",
        "###"
      ],
      "execution_count": null,
      "outputs": []
    },
    {
      "cell_type": "markdown",
      "metadata": {
        "id": "fH_Zoj3_uWZE"
      },
      "source": [
        "Analizamos los resultados"
      ]
    },
    {
      "cell_type": "markdown",
      "metadata": {
        "id": "YABDOe7euWZF"
      },
      "source": [
        "#### Obtengamos la evolución de las millas recorridas en un año (mediana)"
      ]
    },
    {
      "cell_type": "code",
      "metadata": {
        "id": "sTXVzuUhuWZG"
      },
      "source": [
        "df_anio_mileage = ###\n",
        "df_anio_mileage.head()"
      ],
      "execution_count": null,
      "outputs": []
    },
    {
      "cell_type": "markdown",
      "metadata": {
        "id": "eq44npCnuWZH"
      },
      "source": [
        "Lo dibujamos"
      ]
    },
    {
      "cell_type": "code",
      "metadata": {
        "id": "DzkcpXiUuWZJ",
        "scrolled": false
      },
      "source": [
        "plt.figure(figsize=(16, 10))\n",
        "sns.lineplot(df_anio_mileage.antiguedad, df_anio_mileage.mileage_anio)"
      ],
      "execution_count": null,
      "outputs": []
    },
    {
      "cell_type": "markdown",
      "metadata": {
        "id": "LvikDY0xuWZM"
      },
      "source": [
        "Podemos observar ocmo hay ciertos tramos que tienen un comportamiento similar, que nos pueden permitir transformar nuestra variable continua antiguedad, en una varable por tramos que nos facilite el estudio del boxplot."
      ]
    },
    {
      "cell_type": "code",
      "metadata": {
        "id": "PSUzrxuXuWZN"
      },
      "source": [
        "condiciones = [df_coches.antiguedad<=3, \n",
        "              (df_coches.antiguedad>3) & (df_coches.antiguedad<=6), \n",
        "              (df_coches.antiguedad>6) & (df_coches.antiguedad<=10),\n",
        "             (df_coches.antiguedad>10) & (df_coches.antiguedad<=15),\n",
        "             (df_coches.antiguedad>15) & (df_coches.antiguedad<=20),\n",
        "              (df_coches.antiguedad>20) & (df_coches.antiguedad<=30),\n",
        "             df_coches.antiguedad > 30]\n",
        "\n",
        "intervalo = ['menos_de_3', 'entre_3_y_6','entre_6_y_10',\n",
        "            'entre_10_y_15','entre_15_y_20','entre_20_y_30',\n",
        "            'mas_de_30']\n",
        "\n",
        "df_coches['antiguedad_group'] = np.select(condiciones, intervalo)"
      ],
      "execution_count": null,
      "outputs": []
    },
    {
      "cell_type": "markdown",
      "metadata": {
        "id": "R12sCyVEuWZO"
      },
      "source": [
        "Volvemos a realizar el boxplot pero esta vez contra la nueva variable agrupada"
      ]
    },
    {
      "cell_type": "code",
      "metadata": {
        "id": "hLcG2BgkuWZQ"
      },
      "source": [
        "plt.figure(figsize=(16, 10))\n",
        "###"
      ],
      "execution_count": null,
      "outputs": []
    },
    {
      "cell_type": "markdown",
      "metadata": {
        "id": "Yw_PwJGmuWZQ"
      },
      "source": [
        "Analicemos el gráfico"
      ]
    },
    {
      "cell_type": "markdown",
      "metadata": {
        "id": "-IYkhReKuWZR"
      },
      "source": [
        "# DBScan\n",
        "\n",
        "Vamos a ver el funcionamiento de DBScan con dos tipos de datasets:\n",
        "\n",
        "    - Un dataset de \"juguete\" para observar como se comporta el algoritmo.\n",
        "    - Sobre un dataset y variable de un problema real, que es el de los precios de las casas de una ciudad, comparando sus metros cuadrados contra su precio"
      ]
    },
    {
      "cell_type": "markdown",
      "metadata": {
        "id": "xI7cqpi1uWZS"
      },
      "source": [
        "Generamos datos aleatorios con make_moons."
      ]
    },
    {
      "cell_type": "code",
      "metadata": {
        "id": "K8UYa6_JuWZU"
      },
      "source": [
        "X, y = make_moons(n_samples=400, noise=0.05, random_state=0)\n",
        "x = X[:, 0]\n",
        "y = X[:, 1]\n",
        "sns.scatterplot(x, y, legend = False);"
      ],
      "execution_count": null,
      "outputs": []
    },
    {
      "cell_type": "markdown",
      "metadata": {
        "id": "XE7qxwZ3uWZV"
      },
      "source": [
        "Definimos un DBSCan con sklearn y predecimos los clusters"
      ]
    },
    {
      "cell_type": "code",
      "metadata": {
        "id": "oYG24_A4uWZW"
      },
      "source": [
        "model = ###\n",
        "clusters = ###"
      ],
      "execution_count": null,
      "outputs": []
    },
    {
      "cell_type": "markdown",
      "metadata": {
        "id": "v9mpboE8uWZX"
      },
      "source": [
        "Nuestro modelo a identificado lo siguiente:"
      ]
    },
    {
      "cell_type": "code",
      "metadata": {
        "id": "7WoLGgrFuWZY"
      },
      "source": [
        "sns.scatterplot(x, y, hue = clusters);"
      ],
      "execution_count": null,
      "outputs": []
    },
    {
      "cell_type": "markdown",
      "metadata": {
        "id": "FKA88I9GuWZZ"
      },
      "source": [
        "Podemos jugar con el ruido que le metemos al modelo y con la parametrización del modelo DBSCAN para forzar situaciones con este ejemplo sencillo"
      ]
    },
    {
      "cell_type": "markdown",
      "metadata": {
        "id": "zJ_DPzFUuWZc"
      },
      "source": [
        "### DBScan sobre los datos de pisos de Melbourne"
      ]
    },
    {
      "cell_type": "markdown",
      "metadata": {
        "id": "ddbclDS8uWZd"
      },
      "source": [
        "Empleamos un dataset de casas de melbourne para examinar como identifica DBScan anomalias dentro de la relación entre dos de sus variables.\n",
        "\n",
        "Este es un problema tipico de kaggle y estamos analizando la variable target del problema 'SalePrice' respecto a 'GrLivArea', que es una de las variables más importantes cuando se modeliza este problema, pues es el area del inmueble."
      ]
    },
    {
      "cell_type": "markdown",
      "metadata": {
        "id": "Ehtz6hbtuWZd"
      },
      "source": [
        "#### Leemos los datos"
      ]
    },
    {
      "cell_type": "code",
      "metadata": {
        "id": "y8UnQ-E_uWZd"
      },
      "source": [
        "df_houses = pd.read_csv(\"https://raw.githubusercontent.com/jguijarh/The_Valley_outliers_and_residuals/main/precio-casas/train.csv\")\n",
        "df_houses.head()"
      ],
      "execution_count": null,
      "outputs": []
    },
    {
      "cell_type": "markdown",
      "metadata": {
        "id": "b3GryhpMXo9R"
      },
      "source": [
        "Elaboramos una función que nos permite evaluar el rendimiento de DBScan en estos datos"
      ]
    },
    {
      "cell_type": "code",
      "metadata": {
        "id": "Rpd5jf4uuWZe"
      },
      "source": [
        "def dbscan_outliers(df, \n",
        "                    var1,var2,\n",
        "                    dbscan_eps,\n",
        "                    dbscan_minsample,\n",
        "                    get_cluster_num):\n",
        "    '''Funcion que define los datos escalados que se le pasan y busca outliers mediante DBScan en ellos'''\n",
        "    plt.figure(figsize=(8,8))\n",
        "    \n",
        "    scaler = RobustScaler()\n",
        "    scale_var1 = ###\n",
        "    scale_var2 = ###\n",
        "    # Generamos un dataframe con las nuevas variables\n",
        "    df_temp = ###\n",
        "    \n",
        "    # Definimos el modelo DBScan\n",
        "    clustering = ###\n",
        "    \n",
        "    #asignamos las predicciones\n",
        "    df_temp[\"c\"] = ###\n",
        "    df_temp.index = ###\n",
        "    \n",
        "    # Visualizamos los resultados\n",
        "    sns.scatterplot()###\n",
        "    \n",
        "    return df_temp[df_temp[\"c\"]==get_cluster_num].index"
      ],
      "execution_count": null,
      "outputs": []
    },
    {
      "cell_type": "code",
      "metadata": {
        "id": "uk7JfufNuWZg"
      },
      "source": [
        "outlier_index = dbscan_outliers(df_houses,\n",
        "                                \"GrLivArea\", \"SalePrice\",\n",
        "                                dbscan_eps=.7,\n",
        "                                dbscan_minsample=100,\n",
        "                                get_cluster_num=-1)\n",
        "\n",
        "print(f\"Outliers identificados: {len(outlier_index)}\")"
      ],
      "execution_count": null,
      "outputs": []
    },
    {
      "cell_type": "markdown",
      "metadata": {
        "id": "yo-8VzGFuWZh"
      },
      "source": [
        "# Isolation Forest"
      ]
    },
    {
      "cell_type": "markdown",
      "metadata": {
        "id": "jc39ppluuWZj"
      },
      "source": [
        "Finalmente vamos a ver la aplicaciónd e uno de los algoritmos más extendidos en la actualidad para la detección de outliers.\n",
        "\n",
        "Esto es debido a su sencillez de implementar y a su eficacia,, como ya hemos visto durante la lección.\n",
        "\n",
        "Para cambiar un poco vamos a realizar este ejercicio empleando la libreria H2O."
      ]
    },
    {
      "cell_type": "code",
      "metadata": {
        "id": "pR9FsZ8PuWZk"
      },
      "source": [
        "h2o.init()"
      ],
      "execution_count": null,
      "outputs": []
    },
    {
      "cell_type": "markdown",
      "metadata": {
        "id": "Ge3QF3vBuWZm"
      },
      "source": [
        "### Lectura de los datos"
      ]
    },
    {
      "cell_type": "markdown",
      "metadata": {
        "id": "ppx_sPRmuWZm"
      },
      "source": [
        "Vamos a leer los datos de los que dispone un departamenteo de Rrecursos humanos de sus trabjadores (ficticios) y vamos a emplear esta información para ver a que clase de trabajadores detecta como extraños nuestro isolation forest"
      ]
    },
    {
      "cell_type": "code",
      "metadata": {
        "id": "QDHO-MxHuWZn"
      },
      "source": [
        "employee_data = h2o.import_file('https://raw.githubusercontent.com/jguijarh/The_Valley_outliers_and_residuals/main/HR/HR_info_empleados.csv')"
      ],
      "execution_count": null,
      "outputs": []
    },
    {
      "cell_type": "markdown",
      "metadata": {
        "id": "lzmR_3SSuWZo"
      },
      "source": [
        "### Definimos el modelo con H2o\n",
        "\n",
        "La forma de definir el modelo es muy similar a sklearn"
      ]
    },
    {
      "cell_type": "markdown",
      "metadata": {
        "id": "L_-tqdQouWZp"
      },
      "source": [
        "Seleccionamos las features a utilizar para el entrenamiento del modelo"
      ]
    },
    {
      "cell_type": "code",
      "metadata": {
        "id": "OzH_4Yi0uWZp"
      },
      "source": [
        "estimadores = ['Age', 'BusinessTravel', \n",
        "               'DistanceFromHome', 'Education', \n",
        "               'Gender', 'JobInvolvement', 'JobLevel', \n",
        "               'MaritalStatus', 'MonthlyIncome', 'NumCompaniesWorked', \n",
        "               'OverTime', 'PercentSalaryHike',\n",
        "               'PerformanceRating', 'TotalWorkingYears', \n",
        "               'TrainingTimesLastYear', 'YearsAtCompany', \n",
        "               'YearsInCurrentRole', 'YearsSinceLastPromotion', 'YearsWithCurrManager']"
      ],
      "execution_count": null,
      "outputs": []
    },
    {
      "cell_type": "code",
      "metadata": {
        "id": "ZFC72tTLuWZr"
      },
      "source": [
        "from h2o.estimators import H2OIsolationForestEstimator\n",
        "isolation_model = H2OIsolationForestEstimator(model_id = \"isolation_forest\", \n",
        "                                              seed = 1993)\n",
        "isolation_model.train(training_frame = employee_data, x = estimadores)"
      ],
      "execution_count": null,
      "outputs": []
    },
    {
      "cell_type": "markdown",
      "metadata": {
        "id": "QN9F1NXJuWZt"
      },
      "source": [
        "Lo que nos predice el modelo de h2o es el mena_length, que viene a significar como de profunda es la rama en la que se ha quedado ese registro en función de sus variables para realizar su segregación.\n",
        "\n",
        "Cuanto menor sea este valor, menos divisiones serán necesarias para dividir este registro y por lo tanto más propenso a ser elegido como outlier será.\n",
        "\n",
        "Podemos ver como esto queda verificado con el histograma de este valor, al haber menos valores con un valor pequeño de mean_length"
      ]
    },
    {
      "cell_type": "code",
      "metadata": {
        "id": "90CQVSStuWZv"
      },
      "source": [
        "predicciones = isolation_model.predict(employee_data)\n",
        "predicciones[\"mean_length\"].hist()"
      ],
      "execution_count": null,
      "outputs": []
    },
    {
      "cell_type": "markdown",
      "metadata": {
        "id": "lkocBsbruWZw"
      },
      "source": [
        "A la vista de este histograma, podemos nostros mismos marcar un umbral en el cual identificar los outliers. Esto nos permite un poco más de versatilidad para parametrizar el modelo."
      ]
    },
    {
      "cell_type": "code",
      "metadata": {
        "id": "f5P2IasCuWZw"
      },
      "source": [
        "umbral_outlier = 5.5\n",
        "anomalias = employee_data[predictions[\"mean_length\"] < umbral_outlier]\n",
        "print(\"Numero de anomalias detectadas: \" + str(anomalias.nrow))"
      ],
      "execution_count": null,
      "outputs": []
    },
    {
      "cell_type": "markdown",
      "metadata": {
        "id": "Qt0DEc72uWZz"
      },
      "source": [
        "Finalmente, calculamos añadimos este valor a nuestro dataframe de entrada al modelo."
      ]
    },
    {
      "cell_type": "code",
      "metadata": {
        "id": "hNRblWsIuWZz"
      },
      "source": [
        "data_con_outliers = employee_data[:, :]\n",
        "data_con_outliers[\"anomalia\"] = (predicciones[\"mean_length\"] < umbral_outlier).ifelse(\"Si\", \"No\")\n",
        "data_con_outliers[\"anomalia\"].table()"
      ],
      "execution_count": null,
      "outputs": []
    },
    {
      "cell_type": "markdown",
      "metadata": {
        "id": "QFW-CHZ0uWZ1"
      },
      "source": [
        "UIna vez fuiinalizada la detección podemos convertirlo en pandas dataframe y seguir trabajando een por ejemplo representaciones gráficas de los datos."
      ]
    },
    {
      "cell_type": "code",
      "metadata": {
        "id": "6GKPeQKpuWZ1"
      },
      "source": [
        "df_anomalias = h2o.as_list(data_con_outliers)"
      ],
      "execution_count": null,
      "outputs": []
    },
    {
      "cell_type": "markdown",
      "metadata": {
        "id": "9UyAB3xVuWZ2"
      },
      "source": [
        "### Scatter plot de años que el empleado lleva en la empresa contra los años que lleva sin promocionar, coloreado por si el registro se considera outlier o no "
      ]
    },
    {
      "cell_type": "code",
      "metadata": {
        "id": "ivOURttmuWZ2"
      },
      "source": [
        "plt.figure(figsize=(16, 10))\n",
        "sns.scatterplot(x=\"TotalWorkingYears\", y=\"YearsSinceLastPromotion\", hue= 'anomalia',\n",
        "            data=df_anomalias);"
      ],
      "execution_count": null,
      "outputs": []
    },
    {
      "cell_type": "markdown",
      "metadata": {
        "id": "V7C7vED0uWZ3"
      },
      "source": [
        "### Futuros pasos o lineas a investigar\n",
        "\n",
        "1. Para el caso del isolation forest, construid un arbol, que tenga como variable target la anomalia y estudiad los cortes que hace el árbol para ver porque discrimina ciertas regiones de los datos.\n",
        "2. Probar el algoritmo Isolation forest pero con sklearn y usad un volumen de datos más grande. Comparad tiempos."
      ]
    }
  ]
}
{
  "nbformat": 4,
  "nbformat_minor": 0,
  "metadata": {
    "colab": {
      "name": "Notebook_2_analisis_de_outliers_solucion.ipynb",
      "provenance": [],
      "collapsed_sections": [
        "V7C7vED0uWZ3"
      ],
      "toc_visible": true
    },
    "kernelspec": {
      "display_name": "Python 3",
      "language": "python",
      "name": "python3"
    },
    "language_info": {
      "codemirror_mode": {
        "name": "ipython",
        "version": 3
      },
      "file_extension": ".py",
      "mimetype": "text/x-python",
      "name": "python",
      "nbconvert_exporter": "python",
      "pygments_lexer": "ipython3",
      "version": "3.7.6"
    }
  },
  "cells": [
    {
      "cell_type": "markdown",
      "metadata": {
        "id": "GK4n7pgjuWXZ"
      },
      "source": [
        "# Imports\n",
        "\n",
        "Llevamos a cabo los imports necesarios para realizar los ejercicios de esta sección"
      ]
    },
    {
      "cell_type": "code",
      "metadata": {
        "id": "BLTzuQbDueel",
        "colab": {
          "base_uri": "https://localhost:8080/"
        },
        "outputId": "9fc2da23-12bd-4e1f-8a3e-13933bf9bd75"
      },
      "source": [
        "!pip install h2o"
      ],
      "execution_count": 1,
      "outputs": [
        {
          "output_type": "stream",
          "text": [
            "Collecting h2o\n",
            "\u001b[?25l  Downloading https://files.pythonhosted.org/packages/d4/d4/5c07504a392e94786e7cf33554d961ac4b2863aa22a07b8579940ea1f6b5/h2o-3.32.0.4.tar.gz (164.6MB)\n",
            "\u001b[K     |████████████████████████████████| 164.6MB 61kB/s \n",
            "\u001b[?25hRequirement already satisfied: requests in /usr/local/lib/python3.7/dist-packages (from h2o) (2.23.0)\n",
            "Requirement already satisfied: tabulate in /usr/local/lib/python3.7/dist-packages (from h2o) (0.8.9)\n",
            "Requirement already satisfied: future in /usr/local/lib/python3.7/dist-packages (from h2o) (0.16.0)\n",
            "Collecting colorama>=0.3.8\n",
            "  Downloading https://files.pythonhosted.org/packages/44/98/5b86278fbbf250d239ae0ecb724f8572af1c91f4a11edf4d36a206189440/colorama-0.4.4-py2.py3-none-any.whl\n",
            "Requirement already satisfied: urllib3!=1.25.0,!=1.25.1,<1.26,>=1.21.1 in /usr/local/lib/python3.7/dist-packages (from requests->h2o) (1.24.3)\n",
            "Requirement already satisfied: idna<3,>=2.5 in /usr/local/lib/python3.7/dist-packages (from requests->h2o) (2.10)\n",
            "Requirement already satisfied: certifi>=2017.4.17 in /usr/local/lib/python3.7/dist-packages (from requests->h2o) (2020.12.5)\n",
            "Requirement already satisfied: chardet<4,>=3.0.2 in /usr/local/lib/python3.7/dist-packages (from requests->h2o) (3.0.4)\n",
            "Building wheels for collected packages: h2o\n",
            "  Building wheel for h2o (setup.py) ... \u001b[?25l\u001b[?25hdone\n",
            "  Created wheel for h2o: filename=h2o-3.32.0.4-py2.py3-none-any.whl size=164670979 sha256=746aa8ddf289b58e1ff48e50653c65f3fd69df6d2fd3d819b90fe9d1c704cb88\n",
            "  Stored in directory: /root/.cache/pip/wheels/65/f4/0d/c9bb958d70c2e015c968cb91cbd7f1b486933056d422337d75\n",
            "Successfully built h2o\n",
            "Installing collected packages: colorama, h2o\n",
            "Successfully installed colorama-0.4.4 h2o-3.32.0.4\n"
          ],
          "name": "stdout"
        }
      ]
    },
    {
      "cell_type": "code",
      "metadata": {
        "id": "QAjr49HKuWXf"
      },
      "source": [
        "import numpy as np \n",
        "import pandas as pd \n",
        "\n",
        "import matplotlib.pyplot as plt\n",
        "import seaborn as sns\n",
        "import h2o\n",
        "from sklearn.preprocessing import RobustScaler\n",
        "from sklearn.ensemble import IsolationForest\n",
        "from sklearn.datasets import make_moons\n",
        "from sklearn.cluster import DBSCAN\n",
        "from sklearn.preprocessing import StandardScaler"
      ],
      "execution_count": 2,
      "outputs": []
    },
    {
      "cell_type": "markdown",
      "metadata": {
        "id": "ZLPsTu9cuWXi"
      },
      "source": [
        "# Configuraciones\n",
        "\n",
        "Definimos una serie de configuraciones que nos sirvan para todo el notebook"
      ]
    },
    {
      "cell_type": "code",
      "metadata": {
        "id": "JJdEtcAKuWXl"
      },
      "source": [
        "np.random.seed(1993)\n",
        "%matplotlib inline"
      ],
      "execution_count": 3,
      "outputs": []
    },
    {
      "cell_type": "markdown",
      "metadata": {
        "id": "SpPTgH6HuWXp"
      },
      "source": [
        "# Métodos paramétricos"
      ]
    },
    {
      "cell_type": "markdown",
      "metadata": {
        "id": "Vf9jsR5wuWXs"
      },
      "source": [
        "Para el estudio de estas técnicas de detección de outliers, vamos a emplear un conjunto de datos generados aleatoriamente, que cumplen con la premisa que marcan los métodos parametricos dee que los datos siguen una distribución normal"
      ]
    },
    {
      "cell_type": "code",
      "metadata": {
        "id": "tFuPg9_suWXy",
        "colab": {
          "base_uri": "https://localhost:8080/",
          "height": 206
        },
        "outputId": "f07a61c7-e98f-4554-a23b-c938785aa8be"
      },
      "source": [
        "numero_variables=4\n",
        "df_normal = pd.DataFrame(np.random.normal(scale=10.0, \n",
        "                                        size=(1000, numero_variables)),\n",
        "                           columns=['variable_{}'.format(i) for i in range(numero_variables)])\n",
        "df_normal.head()"
      ],
      "execution_count": 4,
      "outputs": [
        {
          "output_type": "execute_result",
          "data": {
            "text/html": [
              "<div>\n",
              "<style scoped>\n",
              "    .dataframe tbody tr th:only-of-type {\n",
              "        vertical-align: middle;\n",
              "    }\n",
              "\n",
              "    .dataframe tbody tr th {\n",
              "        vertical-align: top;\n",
              "    }\n",
              "\n",
              "    .dataframe thead th {\n",
              "        text-align: right;\n",
              "    }\n",
              "</style>\n",
              "<table border=\"1\" class=\"dataframe\">\n",
              "  <thead>\n",
              "    <tr style=\"text-align: right;\">\n",
              "      <th></th>\n",
              "      <th>variable_0</th>\n",
              "      <th>variable_1</th>\n",
              "      <th>variable_2</th>\n",
              "      <th>variable_3</th>\n",
              "    </tr>\n",
              "  </thead>\n",
              "  <tbody>\n",
              "    <tr>\n",
              "      <th>0</th>\n",
              "      <td>-1.772075</td>\n",
              "      <td>-2.523558</td>\n",
              "      <td>-2.023786</td>\n",
              "      <td>5.173049</td>\n",
              "    </tr>\n",
              "    <tr>\n",
              "      <th>1</th>\n",
              "      <td>-5.139887</td>\n",
              "      <td>-4.579376</td>\n",
              "      <td>17.820728</td>\n",
              "      <td>0.564511</td>\n",
              "    </tr>\n",
              "    <tr>\n",
              "      <th>2</th>\n",
              "      <td>-12.888997</td>\n",
              "      <td>2.895660</td>\n",
              "      <td>0.710280</td>\n",
              "      <td>5.509234</td>\n",
              "    </tr>\n",
              "    <tr>\n",
              "      <th>3</th>\n",
              "      <td>2.628307</td>\n",
              "      <td>11.795127</td>\n",
              "      <td>-9.574134</td>\n",
              "      <td>1.311040</td>\n",
              "    </tr>\n",
              "    <tr>\n",
              "      <th>4</th>\n",
              "      <td>-9.469025</td>\n",
              "      <td>-14.903507</td>\n",
              "      <td>5.175685</td>\n",
              "      <td>2.776887</td>\n",
              "    </tr>\n",
              "  </tbody>\n",
              "</table>\n",
              "</div>"
            ],
            "text/plain": [
              "   variable_0  variable_1  variable_2  variable_3\n",
              "0   -1.772075   -2.523558   -2.023786    5.173049\n",
              "1   -5.139887   -4.579376   17.820728    0.564511\n",
              "2  -12.888997    2.895660    0.710280    5.509234\n",
              "3    2.628307   11.795127   -9.574134    1.311040\n",
              "4   -9.469025  -14.903507    5.175685    2.776887"
            ]
          },
          "metadata": {
            "tags": []
          },
          "execution_count": 4
        }
      ]
    },
    {
      "cell_type": "markdown",
      "metadata": {
        "id": "xukCD19JuWX1"
      },
      "source": [
        "Ahora vamos a mirar a sus histoigramas, podemos observar como efectivamente, siguen una distribución normal"
      ]
    },
    {
      "cell_type": "code",
      "metadata": {
        "id": "4Ofb8hDGuWX6",
        "colab": {
          "base_uri": "https://localhost:8080/",
          "height": 608
        },
        "outputId": "6bbb85a1-9cf6-4111-b6a5-9646484d48f8"
      },
      "source": [
        "df_normal.hist(figsize=(10,10));"
      ],
      "execution_count": 5,
      "outputs": [
        {
          "output_type": "display_data",
          "data": {
            "image/png": "[encoded data removed]",
            "text/plain": [
              "<Figure size 720x720 with 4 Axes>"
            ]
          },
          "metadata": {
            "tags": [],
            "needs_background": "light"
          }
        }
      ]
    },
    {
      "cell_type": "markdown",
      "metadata": {
        "id": "A38hrpjzuWYA"
      },
      "source": [
        "## Identificación de outliers en nuestros datos"
      ]
    },
    {
      "cell_type": "markdown",
      "metadata": {
        "id": "gCgDbo-guWYC"
      },
      "source": [
        "Los metodos de detección de outliers parametricas más extendidos son:\n",
        "\n",
        "    - Detección empleando la desviación estandar.\n",
        "    - Detección empleando el rango interquantil.\n",
        "    \n",
        "Vamos a generar dos funciones que nos permitan calcular estos valores y aplicarlos sobre nuestras variables"
      ]
    },
    {
      "cell_type": "markdown",
      "metadata": {
        "id": "aadHGlTLuWYQ"
      },
      "source": [
        "### Metodo de la desviacion estandar"
      ]
    },
    {
      "cell_type": "code",
      "metadata": {
        "id": "VVWFJnOxuWYQ"
      },
      "source": [
        "def fuera_std(s, nstd=3.0, return_thresholds=False):\n",
        "    \"\"\"\n",
        "    Definir una funcion que devuelva si el punto de la variable se \n",
        "    encuentra dentro o fuera de la franja de desviaci'on estandar \n",
        "    de la distribuci'on de la variables.\n",
        "    Si return_thresholds es True se le pedirá que nos mande los \n",
        "    umbrales en los que está haciendo el corte\n",
        "    \"\"\"\n",
        "    data_media, data_std = s.mean(), s.std()\n",
        "    cut_off = data_std * nstd\n",
        "    limite_inferior, limite_superior = data_media - cut_off, data_media + cut_off\n",
        "    if return_thresholds:\n",
        "        return limite_inferior, limite_superior\n",
        "    else:\n",
        "        return [True if x < limite_inferior or x > limite_superior else False for x in s]"
      ],
      "execution_count": 6,
      "outputs": []
    },
    {
      "cell_type": "code",
      "metadata": {
        "id": "JUp0g3Y9uWYS"
      },
      "source": [
        "outliers_std = fuera_std(df_normal.variable_0,3,False)"
      ],
      "execution_count": 7,
      "outputs": []
    },
    {
      "cell_type": "code",
      "metadata": {
        "id": "ZpDMlqXQuWYU",
        "colab": {
          "base_uri": "https://localhost:8080/",
          "height": 446
        },
        "outputId": "74bcb8fc-b033-4cf6-8e5d-716f44840c6f"
      },
      "source": [
        "plt.figure(figsize=(8,6))\n",
        "sns.distplot(df_normal['variable_0'], kde=False);\n",
        "plt.vlines(df_normal['variable_0'][outliers_std], \n",
        "           ymin=0, ymax=110, \n",
        "           linestyles='dashed');"
      ],
      "execution_count": 8,
      "outputs": [
        {
          "output_type": "stream",
          "text": [
            "/usr/local/lib/python3.7/dist-packages/seaborn/distributions.py:2557: FutureWarning: `distplot` is a deprecated function and will be removed in a future version. Please adapt your code to use either `displot` (a figure-level function with similar flexibility) or `histplot` (an axes-level function for histograms).\n",
            "  warnings.warn(msg, FutureWarning)\n"
          ],
          "name": "stderr"
        },
        {
          "output_type": "display_data",
          "data": {
            "image/png": "[encoded data removed]",
            "text/plain": [
              "<Figure size 576x432 with 1 Axes>"
            ]
          },
          "metadata": {
            "tags": [],
            "needs_background": "light"
          }
        }
      ]
    },
    {
      "cell_type": "markdown",
      "metadata": {
        "id": "D6LLaCEkuWYW"
      },
      "source": [
        "### Metodo del rango interquartil"
      ]
    },
    {
      "cell_type": "code",
      "metadata": {
        "id": "CBnHzhzPuWYX"
      },
      "source": [
        "def fuera_iqr(s, \n",
        "              k=1.5, \n",
        "              return_thresholds=False):\n",
        "    \"\"\"Calcula el IQR y lo multiplica por un k que define el \n",
        "   limite final para detectar outliers.\n",
        "    Si return_thresholds es True se le pedirá que nos mande los \n",
        "    umbrales en los que está haciendo el corte.\n",
        "   \n",
        "    \"\"\"\n",
        "    # calcular IQR\n",
        "    q25, q75 = np.percentile(s, 25), np.percentile(s, 75)\n",
        "    iqr = q75 - q25\n",
        "    # calcular el corte de los outliers\n",
        "    cut_off = iqr * k\n",
        "    limite_inferior, limite_superior = q25 - cut_off, q75 + cut_off\n",
        "    if return_thresholds:\n",
        "        return limite_inferior, limite_superior\n",
        "    else: \n",
        "        return [True if x < limite_inferior or x > limite_superior else False for x in s]"
      ],
      "execution_count": 9,
      "outputs": []
    },
    {
      "cell_type": "code",
      "metadata": {
        "id": "3YZAW5YMuWYY"
      },
      "source": [
        "outliers_iqr = fuera_iqr(df_normal.variable_0,1.5,False)"
      ],
      "execution_count": 10,
      "outputs": []
    },
    {
      "cell_type": "code",
      "metadata": {
        "id": "yB3jzSlruWYa",
        "colab": {
          "base_uri": "https://localhost:8080/",
          "height": 446
        },
        "outputId": "11d9baf9-3b23-4d5d-9f93-066a2d2d8164"
      },
      "source": [
        "plt.figure(figsize=(8,6))\n",
        "sns.distplot(df_normal['variable_0'], kde=False);\n",
        "plt.vlines(df_normal['variable_0'][outliers_iqr], \n",
        "           ymin=0, ymax=110, \n",
        "           linestyles='dashed');"
      ],
      "execution_count": 11,
      "outputs": [
        {
          "output_type": "stream",
          "text": [
            "/usr/local/lib/python3.7/dist-packages/seaborn/distributions.py:2557: FutureWarning: `distplot` is a deprecated function and will be removed in a future version. Please adapt your code to use either `displot` (a figure-level function with similar flexibility) or `histplot` (an axes-level function for histograms).\n",
            "  warnings.warn(msg, FutureWarning)\n"
          ],
          "name": "stderr"
        },
        {
          "output_type": "display_data",
          "data": {
            "image/png": "[encoded data removed]",
            "text/plain": [
              "<Figure size 576x432 with 1 Axes>"
            ]
          },
          "metadata": {
            "tags": [],
            "needs_background": "light"
          }
        }
      ]
    },
    {
      "cell_type": "markdown",
      "metadata": {
        "id": "Kin0ceZ3uWYc"
      },
      "source": [
        "### Evolución del umbral en función de los multiplicadores que se atribuyan"
      ]
    },
    {
      "cell_type": "markdown",
      "metadata": {
        "id": "1ANvWRQJuWYd"
      },
      "source": [
        "Vamos a comprobar como varia el umbral con el que se corta a la distribución normal en función del multiplicador que se asocie a la desviación estandar o al rango interquantil"
      ]
    },
    {
      "cell_type": "code",
      "metadata": {
        "id": "OIbM2sFVuWYt"
      },
      "source": [
        "def plot_umbrales_std(dataframe, col, nstd=2.0, color='red'):\n",
        "    \"\"\"\n",
        "    Plot de los limites de umbrales\n",
        "    \"\"\"\n",
        "    inferior, superior = fuera_std(dataframe[col], nstd=nstd, return_thresholds=True)\n",
        "    plt.axvspan(min(dataframe[col][dataframe[col] < inferior], \n",
        "                    default=dataframe[col].min()), \n",
        "                inferior, \n",
        "                alpha=0.2, \n",
        "                color=color);\n",
        "    \n",
        "    plt.axvspan(superior, max(dataframe[col][dataframe[col] > superior],\n",
        "                           default=dataframe[col].max()), \n",
        "                alpha=0.2, \n",
        "                color=color);"
      ],
      "execution_count": 12,
      "outputs": []
    },
    {
      "cell_type": "code",
      "metadata": {
        "id": "SPwENNIOuWYv",
        "colab": {
          "base_uri": "https://localhost:8080/",
          "height": 337
        },
        "outputId": "bec48756-0243-475a-f99a-8175d1ad5147"
      },
      "source": [
        "column = 'variable_0'\n",
        "sns.distplot(df_normal[column], kde=False)\n",
        "plot_umbrales_std(df_normal, column, nstd=2.0, color='red');\n",
        "plot_umbrales_std(df_normal, column, nstd=3.0, color='blue');\n",
        "plot_umbrales_std(df_normal, column, nstd=4.0, color='yellow');"
      ],
      "execution_count": 13,
      "outputs": [
        {
          "output_type": "stream",
          "text": [
            "/usr/local/lib/python3.7/dist-packages/seaborn/distributions.py:2557: FutureWarning: `distplot` is a deprecated function and will be removed in a future version. Please adapt your code to use either `displot` (a figure-level function with similar flexibility) or `histplot` (an axes-level function for histograms).\n",
            "  warnings.warn(msg, FutureWarning)\n"
          ],
          "name": "stderr"
        },
        {
          "output_type": "display_data",
          "data": {
            "image/png": "[encoded data removed]",
            "text/plain": [
              "<Figure size 432x288 with 1 Axes>"
            ]
          },
          "metadata": {
            "tags": [],
            "needs_background": "light"
          }
        }
      ]
    },
    {
      "cell_type": "code",
      "metadata": {
        "id": "eC5yfw6juWYw"
      },
      "source": [
        "def plot_umbrales_iqr(dataframe, col, k=1.5, color='red'):\n",
        "    \"\"\"\n",
        "    Plot de los limites de umbrales\n",
        "    \"\"\"\n",
        "    inferior, superior = fuera_iqr(dataframe[col], k=k, return_thresholds=True)\n",
        "    plt.axvspan(min(dataframe[col][dataframe[col] < inferior], \n",
        "                    default=dataframe[col].min()), \n",
        "                inferior, \n",
        "                alpha=0.2, \n",
        "                color=color);\n",
        "    \n",
        "    plt.axvspan(superior, max(dataframe[col][dataframe[col] > superior],\n",
        "                           default=dataframe[col].max()), \n",
        "                alpha=0.2, \n",
        "                color=color);"
      ],
      "execution_count": null,
      "outputs": []
    },
    {
      "cell_type": "code",
      "metadata": {
        "id": "OXHiGeA_uWYw",
        "outputId": "12e6886a-2f74-4439-8852-0d04fa3a0d1e"
      },
      "source": [
        "column = 'variable_0'\n",
        "sns.distplot(df_normal[column], kde=False)\n",
        "plot_umbrales_iqr(df_normal, column, k=1.5, color='red');\n",
        "plot_umbrales_iqr(df_normal, column, k=2.0, color='blue');\n",
        "plot_umbrales_iqr(df_normal, column, k=3.0, color='yellow');"
      ],
      "execution_count": null,
      "outputs": [
        {
          "output_type": "display_data",
          "data": {
            "image/png": "[encoded data removed]",
            "text/plain": [
              "<Figure size 432x288 with 1 Axes>"
            ]
          },
          "metadata": {
            "tags": [],
            "needs_background": "light"
          }
        }
      ]
    },
    {
      "cell_type": "markdown",
      "metadata": {
        "id": "E44rDWgHuWYy"
      },
      "source": [
        "Podemos observar ocmo el IQR es mucho mas restrictivo que el metodo de la desviación"
      ]
    },
    {
      "cell_type": "markdown",
      "metadata": {
        "id": "VeGcOT2DuWYy"
      },
      "source": [
        "# Elaboración de gráficos Boxplot"
      ]
    },
    {
      "cell_type": "markdown",
      "metadata": {
        "id": "ZJo5c2fKuWY0"
      },
      "source": [
        "## Lectura de los datos\n",
        "\n",
        "Para el ejercicio de dibujar y trabajar ocn boxplot, emplearemos los datos de un dataset real que recoge cierta información sobre los coches que se están vendiendo en un portal web. este dataset recoge la sigueinte información:\n",
        "\n",
        "**- car:** marca del coche\n",
        "\n",
        "**- price:** precio de venta del anunciante (en dolares\n",
        "\n",
        "**- body:** tipo de coche\n",
        "\n",
        "**- mileage:** km que tiene el coche\n",
        "\n",
        "**- engV:** rounded engine volume (‘000 cubic cm)\n",
        "\n",
        "**- engType:** tipo de motor\n",
        "\n",
        "**- registration:** si el coche esta registrado a nivel nacional.\n",
        "\n",
        "**- year:** año de fabricación\n",
        "\n",
        "**- model:** modelo especifico de coche\n",
        "\n",
        "**- drive:** tipo de traccion\n"
      ]
    },
    {
      "cell_type": "code",
      "metadata": {
        "colab": {
          "base_uri": "https://localhost:8080/",
          "height": 206
        },
        "id": "uqd8IqLzuWY1",
        "outputId": "09e9c6ff-6dcc-41da-9540-d23c1c01ff1b"
      },
      "source": [
        "df_coches = pd.read_csv(\"https://raw.githubusercontent.com/jguijarh/The_Valley_outliers_and_residuals/main/anuncios-coche/car_ad.csv\", sep=',', encoding='latin-1')\n",
        "df_coches.head()"
      ],
      "execution_count": 15,
      "outputs": [
        {
          "output_type": "execute_result",
          "data": {
            "text/html": [
              "<div>\n",
              "<style scoped>\n",
              "    .dataframe tbody tr th:only-of-type {\n",
              "        vertical-align: middle;\n",
              "    }\n",
              "\n",
              "    .dataframe tbody tr th {\n",
              "        vertical-align: top;\n",
              "    }\n",
              "\n",
              "    .dataframe thead th {\n",
              "        text-align: right;\n",
              "    }\n",
              "</style>\n",
              "<table border=\"1\" class=\"dataframe\">\n",
              "  <thead>\n",
              "    <tr style=\"text-align: right;\">\n",
              "      <th></th>\n",
              "      <th>car</th>\n",
              "      <th>price</th>\n",
              "      <th>body</th>\n",
              "      <th>mileage</th>\n",
              "      <th>engV</th>\n",
              "      <th>engType</th>\n",
              "      <th>registration</th>\n",
              "      <th>year</th>\n",
              "      <th>model</th>\n",
              "      <th>drive</th>\n",
              "    </tr>\n",
              "  </thead>\n",
              "  <tbody>\n",
              "    <tr>\n",
              "      <th>0</th>\n",
              "      <td>Ford</td>\n",
              "      <td>15500.0</td>\n",
              "      <td>crossover</td>\n",
              "      <td>68</td>\n",
              "      <td>2.5</td>\n",
              "      <td>Gas</td>\n",
              "      <td>yes</td>\n",
              "      <td>2010</td>\n",
              "      <td>Kuga</td>\n",
              "      <td>full</td>\n",
              "    </tr>\n",
              "    <tr>\n",
              "      <th>1</th>\n",
              "      <td>Mercedes-Benz</td>\n",
              "      <td>20500.0</td>\n",
              "      <td>sedan</td>\n",
              "      <td>173</td>\n",
              "      <td>1.8</td>\n",
              "      <td>Gas</td>\n",
              "      <td>yes</td>\n",
              "      <td>2011</td>\n",
              "      <td>E-Class</td>\n",
              "      <td>rear</td>\n",
              "    </tr>\n",
              "    <tr>\n",
              "      <th>2</th>\n",
              "      <td>Mercedes-Benz</td>\n",
              "      <td>35000.0</td>\n",
              "      <td>other</td>\n",
              "      <td>135</td>\n",
              "      <td>5.5</td>\n",
              "      <td>Petrol</td>\n",
              "      <td>yes</td>\n",
              "      <td>2008</td>\n",
              "      <td>CL 550</td>\n",
              "      <td>rear</td>\n",
              "    </tr>\n",
              "    <tr>\n",
              "      <th>3</th>\n",
              "      <td>Mercedes-Benz</td>\n",
              "      <td>17800.0</td>\n",
              "      <td>van</td>\n",
              "      <td>162</td>\n",
              "      <td>1.8</td>\n",
              "      <td>Diesel</td>\n",
              "      <td>yes</td>\n",
              "      <td>2012</td>\n",
              "      <td>B 180</td>\n",
              "      <td>front</td>\n",
              "    </tr>\n",
              "    <tr>\n",
              "      <th>4</th>\n",
              "      <td>Mercedes-Benz</td>\n",
              "      <td>33000.0</td>\n",
              "      <td>vagon</td>\n",
              "      <td>91</td>\n",
              "      <td>NaN</td>\n",
              "      <td>Other</td>\n",
              "      <td>yes</td>\n",
              "      <td>2013</td>\n",
              "      <td>E-Class</td>\n",
              "      <td>NaN</td>\n",
              "    </tr>\n",
              "  </tbody>\n",
              "</table>\n",
              "</div>"
            ],
            "text/plain": [
              "             car    price       body  ...  year    model  drive\n",
              "0           Ford  15500.0  crossover  ...  2010     Kuga   full\n",
              "1  Mercedes-Benz  20500.0      sedan  ...  2011  E-Class   rear\n",
              "2  Mercedes-Benz  35000.0      other  ...  2008   CL 550   rear\n",
              "3  Mercedes-Benz  17800.0        van  ...  2012    B 180  front\n",
              "4  Mercedes-Benz  33000.0      vagon  ...  2013  E-Class    NaN\n",
              "\n",
              "[5 rows x 10 columns]"
            ]
          },
          "metadata": {
            "tags": []
          },
          "execution_count": 15
        }
      ]
    },
    {
      "cell_type": "markdown",
      "metadata": {
        "id": "QPzD4SnquWY2"
      },
      "source": [
        "A simple vista podemos ver como hay valores nulos y otros problemas que deberían solucionarse en una fase precia de EDA. Para no alargar el ejercicio ignoraremos estos pasos dado que no impactan directamente en lo que queremos realizar."
      ]
    },
    {
      "cell_type": "markdown",
      "metadata": {
        "id": "bgzYFcVPuWY3"
      },
      "source": [
        "### Calcular la antiguedad y los kilometros anuales \n",
        "\n",
        "Lo primero que vamos a realizar en este ejercicio es calcular dos variables que pueden ser interesantes:\n",
        "\n",
        "    - La antiguedad de los coches \n",
        "    - Las millas por año que han recorrido.\n",
        "    \n",
        "Eliminamos los coches nuevos para no meter ruido en los analisis futuros."
      ]
    },
    {
      "cell_type": "code",
      "metadata": {
        "id": "Vpi192sVuWY4"
      },
      "source": [
        "df_coches['antiguedad'] = 2016 - df_coches.year\n",
        "df_coches['mileage_anio'] = (df_coches['mileage']/df_coches['antiguedad']).round(2)\n",
        "df_coches = df_coches[df_coches['antiguedad']!=0]"
      ],
      "execution_count": 16,
      "outputs": []
    },
    {
      "cell_type": "markdown",
      "metadata": {
        "id": "5Au4GLOpuWY5"
      },
      "source": [
        "## Dibujar boxplot\n",
        "\n",
        "con los datos ya dispuestos, vamos a representar ciertas variables categoricas en función de otras numericas."
      ]
    },
    {
      "cell_type": "markdown",
      "metadata": {
        "id": "s3C_pKcKuWY6"
      },
      "source": [
        "#### Boxplot de tipo de motor vs antiguedad del vehiculo\n",
        "Llevar a cabo la representacion de boxplot teniendo en cuenta la variable tipo de motor y observar la antiguedad "
      ]
    },
    {
      "cell_type": "code",
      "metadata": {
        "id": "N_EGlUTWuWY7",
        "colab": {
          "base_uri": "https://localhost:8080/",
          "height": 606
        },
        "outputId": "ba0e735f-4b25-4b98-d1b2-f34e1d5da9f1"
      },
      "source": [
        "plt.figure(figsize=(16, 10))\n",
        "sns.boxplot(x=\"engType\", y=\"antiguedad\",  data=df_coches, palette=\"PRGn\");"
      ],
      "execution_count": 17,
      "outputs": [
        {
          "output_type": "display_data",
          "data": {
            "image/png": "[encoded data removed]",
            "text/plain": [
              "<Figure size 1152x720 with 1 Axes>"
            ]
          },
          "metadata": {
            "tags": [],
            "needs_background": "light"
          }
        }
      ]
    },
    {
      "cell_type": "markdown",
      "metadata": {
        "id": "4wP7v03_uWY8"
      },
      "source": [
        "Analicemos los resultados."
      ]
    },
    {
      "cell_type": "markdown",
      "metadata": {
        "id": "xq6lGtwguWY8"
      },
      "source": [
        "### Millas anuales vs antiguedad del vehículo\n",
        "Llevar a cabo la representacion de boxplot teniendo en cuenta la agrupacion por la antiguedad de los coches"
      ]
    },
    {
      "cell_type": "code",
      "metadata": {
        "id": "cbs5prLiuWY9",
        "colab": {
          "base_uri": "https://localhost:8080/",
          "height": 606
        },
        "outputId": "b4a0059f-064a-4720-a02f-9abdfbe0fb24"
      },
      "source": [
        "plt.figure(figsize=(16, 10))\n",
        "sns.boxplot(x=\"antiguedad\", \n",
        "            y=\"mileage_anio\",\n",
        "            data=df_coches, \n",
        "            palette=\"PRGn\");"
      ],
      "execution_count": 18,
      "outputs": [
        {
          "output_type": "display_data",
          "data": {
            "image/png": "[encoded data removed]",
            "text/plain": [
              "<Figure size 1152x720 with 1 Axes>"
            ]
          },
          "metadata": {
            "tags": [],
            "needs_background": "light"
          }
        }
      ]
    },
    {
      "cell_type": "markdown",
      "metadata": {
        "id": "fH_Zoj3_uWZE"
      },
      "source": [
        "Analizamos los resultados"
      ]
    },
    {
      "cell_type": "markdown",
      "metadata": {
        "id": "YABDOe7euWZF"
      },
      "source": [
        "#### Obtengamos la evolución de las millas recorridas en un año (mediana)"
      ]
    },
    {
      "cell_type": "code",
      "metadata": {
        "id": "sTXVzuUhuWZG",
        "colab": {
          "base_uri": "https://localhost:8080/",
          "height": 206
        },
        "outputId": "0299a750-daa2-4fa6-c6b5-9c25b41f815a"
      },
      "source": [
        "df_anio_mileage = df_coches.groupby('antiguedad')['mileage_anio'].median().reset_index()\n",
        "df_anio_mileage.head()"
      ],
      "execution_count": 19,
      "outputs": [
        {
          "output_type": "execute_result",
          "data": {
            "text/html": [
              "<div>\n",
              "<style scoped>\n",
              "    .dataframe tbody tr th:only-of-type {\n",
              "        vertical-align: middle;\n",
              "    }\n",
              "\n",
              "    .dataframe tbody tr th {\n",
              "        vertical-align: top;\n",
              "    }\n",
              "\n",
              "    .dataframe thead th {\n",
              "        text-align: right;\n",
              "    }\n",
              "</style>\n",
              "<table border=\"1\" class=\"dataframe\">\n",
              "  <thead>\n",
              "    <tr style=\"text-align: right;\">\n",
              "      <th></th>\n",
              "      <th>antiguedad</th>\n",
              "      <th>mileage_anio</th>\n",
              "    </tr>\n",
              "  </thead>\n",
              "  <tbody>\n",
              "    <tr>\n",
              "      <th>0</th>\n",
              "      <td>1</td>\n",
              "      <td>9.00</td>\n",
              "    </tr>\n",
              "    <tr>\n",
              "      <th>1</th>\n",
              "      <td>2</td>\n",
              "      <td>17.50</td>\n",
              "    </tr>\n",
              "    <tr>\n",
              "      <th>2</th>\n",
              "      <td>3</td>\n",
              "      <td>20.00</td>\n",
              "    </tr>\n",
              "    <tr>\n",
              "      <th>3</th>\n",
              "      <td>4</td>\n",
              "      <td>22.25</td>\n",
              "    </tr>\n",
              "    <tr>\n",
              "      <th>4</th>\n",
              "      <td>5</td>\n",
              "      <td>19.60</td>\n",
              "    </tr>\n",
              "  </tbody>\n",
              "</table>\n",
              "</div>"
            ],
            "text/plain": [
              "   antiguedad  mileage_anio\n",
              "0           1          9.00\n",
              "1           2         17.50\n",
              "2           3         20.00\n",
              "3           4         22.25\n",
              "4           5         19.60"
            ]
          },
          "metadata": {
            "tags": []
          },
          "execution_count": 19
        }
      ]
    },
    {
      "cell_type": "markdown",
      "metadata": {
        "id": "eq44npCnuWZH"
      },
      "source": [
        "Lo dibujamos"
      ]
    },
    {
      "cell_type": "code",
      "metadata": {
        "id": "DzkcpXiUuWZJ",
        "scrolled": false,
        "colab": {
          "base_uri": "https://localhost:8080/",
          "height": 681
        },
        "outputId": "e0067af4-5f6f-4cef-b8cf-9ab9660b8d43"
      },
      "source": [
        "plt.figure(figsize=(16, 10))\n",
        "sns.lineplot(df_anio_mileage.antiguedad,df_anio_mileage.mileage_anio)"
      ],
      "execution_count": 20,
      "outputs": [
        {
          "output_type": "stream",
          "text": [
            "/usr/local/lib/python3.7/dist-packages/seaborn/_decorators.py:43: FutureWarning: Pass the following variables as keyword args: x, y. From version 0.12, the only valid positional argument will be `data`, and passing other arguments without an explicit keyword will result in an error or misinterpretation.\n",
            "  FutureWarning\n"
          ],
          "name": "stderr"
        },
        {
          "output_type": "execute_result",
          "data": {
            "text/plain": [
              "<matplotlib.axes._subplots.AxesSubplot at 0x7fadcae00950>"
            ]
          },
          "metadata": {
            "tags": []
          },
          "execution_count": 20
        },
        {
          "output_type": "display_data",
          "data": {
            "image/png": "[encoded data removed]",
            "text/plain": [
              "<Figure size 1152x720 with 1 Axes>"
            ]
          },
          "metadata": {
            "tags": [],
            "needs_background": "light"
          }
        }
      ]
    },
    {
      "cell_type": "markdown",
      "metadata": {
        "id": "LvikDY0xuWZM"
      },
      "source": [
        "Podemos observar ocmo hay ciertos tramos que tienen un comportamiento similar, que nos pueden permitir transformar nuestra variable continua antiguedad, en una varable por tramos que nos facilite el estudio del boxplot."
      ]
    },
    {
      "cell_type": "code",
      "metadata": {
        "id": "PSUzrxuXuWZN"
      },
      "source": [
        "condiciones = [df_coches.antiguedad<=3, \n",
        "              (df_coches.antiguedad>3) & (df_coches.antiguedad<=6), \n",
        "              (df_coches.antiguedad>6) & (df_coches.antiguedad<=10),\n",
        "             (df_coches.antiguedad>10) & (df_coches.antiguedad<=15),\n",
        "             (df_coches.antiguedad>15) & (df_coches.antiguedad<=20),\n",
        "              (df_coches.antiguedad>20) & (df_coches.antiguedad<=30),\n",
        "             df_coches.antiguedad > 30]\n",
        "\n",
        "intervalo = ['menos_de_3', 'entre_3_y_6','entre_6_y_10',\n",
        "            'entre_10_y_15','entre_15_y_20','entre_20_y_30',\n",
        "            'mas_de_30']\n",
        "df_coches['antiguedad_group'] = np.select(condiciones, intervalo)"
      ],
      "execution_count": 21,
      "outputs": []
    },
    {
      "cell_type": "markdown",
      "metadata": {
        "id": "R12sCyVEuWZO"
      },
      "source": [
        "Volvemos a realizar el boxplot pero esta vez contra la nueva variable agrupada"
      ]
    },
    {
      "cell_type": "code",
      "metadata": {
        "id": "hLcG2BgkuWZQ",
        "colab": {
          "base_uri": "https://localhost:8080/",
          "height": 607
        },
        "outputId": "ef8a0060-3770-4cb1-81c0-4bf0b41a8515"
      },
      "source": [
        "plt.figure(figsize=(16, 10))\n",
        "sns.boxplot(x=\"antiguedad_group\", \n",
        "            y=\"mileage_anio\",\n",
        "            data=df_coches, \n",
        "            palette=\"PRGn\");"
      ],
      "execution_count": 22,
      "outputs": [
        {
          "output_type": "display_data",
          "data": {
            "image/png": "[encoded data removed]",
            "text/plain": [
              "<Figure size 1152x720 with 1 Axes>"
            ]
          },
          "metadata": {
            "tags": [],
            "needs_background": "light"
          }
        }
      ]
    },
    {
      "cell_type": "markdown",
      "metadata": {
        "id": "Yw_PwJGmuWZQ"
      },
      "source": [
        "Analicemos el gráfico"
      ]
    },
    {
      "cell_type": "markdown",
      "metadata": {
        "id": "-IYkhReKuWZR"
      },
      "source": [
        "# DBScan\n",
        "\n",
        "Vamos a ver el funcionamiento de DBScan con dos tipos de datasets:\n",
        "\n",
        "    - Un dataset de \"juguete\" para observar como se comporta el algoritmo.\n",
        "    - Sobre un dataset y variable de un problema real, que es el de los precios de las casas de una ciudad, comparando sus metros cuadrados contra su precio"
      ]
    },
    {
      "cell_type": "markdown",
      "metadata": {
        "id": "xI7cqpi1uWZS"
      },
      "source": [
        "Generamos datos aleatorios con make_moons."
      ]
    },
    {
      "cell_type": "code",
      "metadata": {
        "id": "K8UYa6_JuWZU",
        "colab": {
          "base_uri": "https://localhost:8080/",
          "height": 322
        },
        "outputId": "f24cb9e3-f7c1-4de6-eda1-ffa8c752ad04"
      },
      "source": [
        "X, y = make_moons(n_samples=400, noise=0.05, random_state=0)\n",
        "x = X[:, 0]\n",
        "y = X[:, 1]\n",
        "sns.scatterplot(x, y, legend = False);"
      ],
      "execution_count": 23,
      "outputs": [
        {
          "output_type": "stream",
          "text": [
            "/usr/local/lib/python3.7/dist-packages/seaborn/_decorators.py:43: FutureWarning: Pass the following variables as keyword args: x, y. From version 0.12, the only valid positional argument will be `data`, and passing other arguments without an explicit keyword will result in an error or misinterpretation.\n",
            "  FutureWarning\n"
          ],
          "name": "stderr"
        },
        {
          "output_type": "display_data",
          "data": {
            "image/png": "[encoded data removed]",
            "text/plain": [
              "<Figure size 432x288 with 1 Axes>"
            ]
          },
          "metadata": {
            "tags": [],
            "needs_background": "light"
          }
        }
      ]
    },
    {
      "cell_type": "markdown",
      "metadata": {
        "id": "XE7qxwZ3uWZV"
      },
      "source": [
        "Definimos un DBSCan con sklearn y predecimos los clusters"
      ]
    },
    {
      "cell_type": "code",
      "metadata": {
        "id": "oYG24_A4uWZW"
      },
      "source": [
        "model = DBSCAN(eps = 0.2,\n",
        "               min_samples=3)\n",
        "clusters = model.fit_predict(X)"
      ],
      "execution_count": 24,
      "outputs": []
    },
    {
      "cell_type": "markdown",
      "metadata": {
        "id": "v9mpboE8uWZX"
      },
      "source": [
        "Nuestro modelo a identificado lo siguiente:"
      ]
    },
    {
      "cell_type": "code",
      "metadata": {
        "id": "7WoLGgrFuWZY",
        "colab": {
          "base_uri": "https://localhost:8080/",
          "height": 322
        },
        "outputId": "ae818efe-27bc-4869-edb6-26ee063f77b7"
      },
      "source": [
        "sns.scatterplot(x, y, hue = clusters);"
      ],
      "execution_count": 25,
      "outputs": [
        {
          "output_type": "stream",
          "text": [
            "/usr/local/lib/python3.7/dist-packages/seaborn/_decorators.py:43: FutureWarning: Pass the following variables as keyword args: x, y. From version 0.12, the only valid positional argument will be `data`, and passing other arguments without an explicit keyword will result in an error or misinterpretation.\n",
            "  FutureWarning\n"
          ],
          "name": "stderr"
        },
        {
          "output_type": "display_data",
          "data": {
            "image/png": "[encoded data removed]",
            "text/plain": [
              "<Figure size 432x288 with 1 Axes>"
            ]
          },
          "metadata": {
            "tags": [],
            "needs_background": "light"
          }
        }
      ]
    },
    {
      "cell_type": "markdown",
      "metadata": {
        "id": "FKA88I9GuWZZ"
      },
      "source": [
        "Podemos jugar con el ruido que le metemos al modelo y con la parametrización del modelo DBSCAN para forzar situaciones con este ejemplo sencillo"
      ]
    },
    {
      "cell_type": "markdown",
      "metadata": {
        "id": "zJ_DPzFUuWZc"
      },
      "source": [
        "### DBScan sobre los datos de pisos de Melbourne"
      ]
    },
    {
      "cell_type": "markdown",
      "metadata": {
        "id": "ddbclDS8uWZd"
      },
      "source": [
        "Empleamos un dataset de casas de melbourne para examinar como identifica DBScan anomalias dentro de la relación entre dos de sus variables.\n",
        "\n",
        "Este es un problema tipico de kaggle y estamos analizando la variable target del problema 'SalePrice' respecto a 'GrLivArea', que es una de las variables más importantes cuando se modeliza este problema, pues es el area del inmueble."
      ]
    },
    {
      "cell_type": "markdown",
      "metadata": {
        "id": "Ehtz6hbtuWZd"
      },
      "source": [
        "#### Leemos los datos"
      ]
    },
    {
      "cell_type": "code",
      "metadata": {
        "colab": {
          "base_uri": "https://localhost:8080/",
          "height": 256
        },
        "collapsed": true,
        "id": "y8UnQ-E_uWZd",
        "outputId": "255fe5c9-1ccf-4849-9418-032f05936c1a"
      },
      "source": [
        "df_houses = pd.read_csv(\"https://raw.githubusercontent.com/jguijarh/The_Valley_outliers_and_residuals/main/precio-casas/train.csv\")\n",
        "df_houses.head()"
      ],
      "execution_count": 26,
      "outputs": [
        {
          "output_type": "execute_result",
          "data": {
            "text/html": [
              "<div>\n",
              "<style scoped>\n",
              "    .dataframe tbody tr th:only-of-type {\n",
              "        vertical-align: middle;\n",
              "    }\n",
              "\n",
              "    .dataframe tbody tr th {\n",
              "        vertical-align: top;\n",
              "    }\n",
              "\n",
              "    .dataframe thead th {\n",
              "        text-align: right;\n",
              "    }\n",
              "</style>\n",
              "<table border=\"1\" class=\"dataframe\">\n",
              "  <thead>\n",
              "    <tr style=\"text-align: right;\">\n",
              "      <th></th>\n",
              "      <th>Id</th>\n",
              "      <th>MSSubClass</th>\n",
              "      <th>MSZoning</th>\n",
              "      <th>LotFrontage</th>\n",
              "      <th>LotArea</th>\n",
              "      <th>Street</th>\n",
              "      <th>Alley</th>\n",
              "      <th>LotShape</th>\n",
              "      <th>LandContour</th>\n",
              "      <th>Utilities</th>\n",
              "      <th>LotConfig</th>\n",
              "      <th>LandSlope</th>\n",
              "      <th>Neighborhood</th>\n",
              "      <th>Condition1</th>\n",
              "      <th>Condition2</th>\n",
              "      <th>BldgType</th>\n",
              "      <th>HouseStyle</th>\n",
              "      <th>OverallQual</th>\n",
              "      <th>OverallCond</th>\n",
              "      <th>YearBuilt</th>\n",
              "      <th>YearRemodAdd</th>\n",
              "      <th>RoofStyle</th>\n",
              "      <th>RoofMatl</th>\n",
              "      <th>Exterior1st</th>\n",
              "      <th>Exterior2nd</th>\n",
              "      <th>MasVnrType</th>\n",
              "      <th>MasVnrArea</th>\n",
              "      <th>ExterQual</th>\n",
              "      <th>ExterCond</th>\n",
              "      <th>Foundation</th>\n",
              "      <th>BsmtQual</th>\n",
              "      <th>BsmtCond</th>\n",
              "      <th>BsmtExposure</th>\n",
              "      <th>BsmtFinType1</th>\n",
              "      <th>BsmtFinSF1</th>\n",
              "      <th>BsmtFinType2</th>\n",
              "      <th>BsmtFinSF2</th>\n",
              "      <th>BsmtUnfSF</th>\n",
              "      <th>TotalBsmtSF</th>\n",
              "      <th>Heating</th>\n",
              "      <th>...</th>\n",
              "      <th>CentralAir</th>\n",
              "      <th>Electrical</th>\n",
              "      <th>1stFlrSF</th>\n",
              "      <th>2ndFlrSF</th>\n",
              "      <th>LowQualFinSF</th>\n",
              "      <th>GrLivArea</th>\n",
              "      <th>BsmtFullBath</th>\n",
              "      <th>BsmtHalfBath</th>\n",
              "      <th>FullBath</th>\n",
              "      <th>HalfBath</th>\n",
              "      <th>BedroomAbvGr</th>\n",
              "      <th>KitchenAbvGr</th>\n",
              "      <th>KitchenQual</th>\n",
              "      <th>TotRmsAbvGrd</th>\n",
              "      <th>Functional</th>\n",
              "      <th>Fireplaces</th>\n",
              "      <th>FireplaceQu</th>\n",
              "      <th>GarageType</th>\n",
              "      <th>GarageYrBlt</th>\n",
              "      <th>GarageFinish</th>\n",
              "      <th>GarageCars</th>\n",
              "      <th>GarageArea</th>\n",
              "      <th>GarageQual</th>\n",
              "      <th>GarageCond</th>\n",
              "      <th>PavedDrive</th>\n",
              "      <th>WoodDeckSF</th>\n",
              "      <th>OpenPorchSF</th>\n",
              "      <th>EnclosedPorch</th>\n",
              "      <th>3SsnPorch</th>\n",
              "      <th>ScreenPorch</th>\n",
              "      <th>PoolArea</th>\n",
              "      <th>PoolQC</th>\n",
              "      <th>Fence</th>\n",
              "      <th>MiscFeature</th>\n",
              "      <th>MiscVal</th>\n",
              "      <th>MoSold</th>\n",
              "      <th>YrSold</th>\n",
              "      <th>SaleType</th>\n",
              "      <th>SaleCondition</th>\n",
              "      <th>SalePrice</th>\n",
              "    </tr>\n",
              "  </thead>\n",
              "  <tbody>\n",
              "    <tr>\n",
              "      <th>0</th>\n",
              "      <td>1</td>\n",
              "      <td>60</td>\n",
              "      <td>RL</td>\n",
              "      <td>65.0</td>\n",
              "      <td>8450</td>\n",
              "      <td>Pave</td>\n",
              "      <td>NaN</td>\n",
              "      <td>Reg</td>\n",
              "      <td>Lvl</td>\n",
              "      <td>AllPub</td>\n",
              "      <td>Inside</td>\n",
              "      <td>Gtl</td>\n",
              "      <td>CollgCr</td>\n",
              "      <td>Norm</td>\n",
              "      <td>Norm</td>\n",
              "      <td>1Fam</td>\n",
              "      <td>2Story</td>\n",
              "      <td>7</td>\n",
              "      <td>5</td>\n",
              "      <td>2003</td>\n",
              "      <td>2003</td>\n",
              "      <td>Gable</td>\n",
              "      <td>CompShg</td>\n",
              "      <td>VinylSd</td>\n",
              "      <td>VinylSd</td>\n",
              "      <td>BrkFace</td>\n",
              "      <td>196.0</td>\n",
              "      <td>Gd</td>\n",
              "      <td>TA</td>\n",
              "      <td>PConc</td>\n",
              "      <td>Gd</td>\n",
              "      <td>TA</td>\n",
              "      <td>No</td>\n",
              "      <td>GLQ</td>\n",
              "      <td>706</td>\n",
              "      <td>Unf</td>\n",
              "      <td>0</td>\n",
              "      <td>150</td>\n",
              "      <td>856</td>\n",
              "      <td>GasA</td>\n",
              "      <td>...</td>\n",
              "      <td>Y</td>\n",
              "      <td>SBrkr</td>\n",
              "      <td>856</td>\n",
              "      <td>854</td>\n",
              "      <td>0</td>\n",
              "      <td>1710</td>\n",
              "      <td>1</td>\n",
              "      <td>0</td>\n",
              "      <td>2</td>\n",
              "      <td>1</td>\n",
              "      <td>3</td>\n",
              "      <td>1</td>\n",
              "      <td>Gd</td>\n",
              "      <td>8</td>\n",
              "      <td>Typ</td>\n",
              "      <td>0</td>\n",
              "      <td>NaN</td>\n",
              "      <td>Attchd</td>\n",
              "      <td>2003.0</td>\n",
              "      <td>RFn</td>\n",
              "      <td>2</td>\n",
              "      <td>548</td>\n",
              "      <td>TA</td>\n",
              "      <td>TA</td>\n",
              "      <td>Y</td>\n",
              "      <td>0</td>\n",
              "      <td>61</td>\n",
              "      <td>0</td>\n",
              "      <td>0</td>\n",
              "      <td>0</td>\n",
              "      <td>0</td>\n",
              "      <td>NaN</td>\n",
              "      <td>NaN</td>\n",
              "      <td>NaN</td>\n",
              "      <td>0</td>\n",
              "      <td>2</td>\n",
              "      <td>2008</td>\n",
              "      <td>WD</td>\n",
              "      <td>Normal</td>\n",
              "      <td>208500</td>\n",
              "    </tr>\n",
              "    <tr>\n",
              "      <th>1</th>\n",
              "      <td>2</td>\n",
              "      <td>20</td>\n",
              "      <td>RL</td>\n",
              "      <td>80.0</td>\n",
              "      <td>9600</td>\n",
              "      <td>Pave</td>\n",
              "      <td>NaN</td>\n",
              "      <td>Reg</td>\n",
              "      <td>Lvl</td>\n",
              "      <td>AllPub</td>\n",
              "      <td>FR2</td>\n",
              "      <td>Gtl</td>\n",
              "      <td>Veenker</td>\n",
              "      <td>Feedr</td>\n",
              "      <td>Norm</td>\n",
              "      <td>1Fam</td>\n",
              "      <td>1Story</td>\n",
              "      <td>6</td>\n",
              "      <td>8</td>\n",
              "      <td>1976</td>\n",
              "      <td>1976</td>\n",
              "      <td>Gable</td>\n",
              "      <td>CompShg</td>\n",
              "      <td>MetalSd</td>\n",
              "      <td>MetalSd</td>\n",
              "      <td>None</td>\n",
              "      <td>0.0</td>\n",
              "      <td>TA</td>\n",
              "      <td>TA</td>\n",
              "      <td>CBlock</td>\n",
              "      <td>Gd</td>\n",
              "      <td>TA</td>\n",
              "      <td>Gd</td>\n",
              "      <td>ALQ</td>\n",
              "      <td>978</td>\n",
              "      <td>Unf</td>\n",
              "      <td>0</td>\n",
              "      <td>284</td>\n",
              "      <td>1262</td>\n",
              "      <td>GasA</td>\n",
              "      <td>...</td>\n",
              "      <td>Y</td>\n",
              "      <td>SBrkr</td>\n",
              "      <td>1262</td>\n",
              "      <td>0</td>\n",
              "      <td>0</td>\n",
              "      <td>1262</td>\n",
              "      <td>0</td>\n",
              "      <td>1</td>\n",
              "      <td>2</td>\n",
              "      <td>0</td>\n",
              "      <td>3</td>\n",
              "      <td>1</td>\n",
              "      <td>TA</td>\n",
              "      <td>6</td>\n",
              "      <td>Typ</td>\n",
              "      <td>1</td>\n",
              "      <td>TA</td>\n",
              "      <td>Attchd</td>\n",
              "      <td>1976.0</td>\n",
              "      <td>RFn</td>\n",
              "      <td>2</td>\n",
              "      <td>460</td>\n",
              "      <td>TA</td>\n",
              "      <td>TA</td>\n",
              "      <td>Y</td>\n",
              "      <td>298</td>\n",
              "      <td>0</td>\n",
              "      <td>0</td>\n",
              "      <td>0</td>\n",
              "      <td>0</td>\n",
              "      <td>0</td>\n",
              "      <td>NaN</td>\n",
              "      <td>NaN</td>\n",
              "      <td>NaN</td>\n",
              "      <td>0</td>\n",
              "      <td>5</td>\n",
              "      <td>2007</td>\n",
              "      <td>WD</td>\n",
              "      <td>Normal</td>\n",
              "      <td>181500</td>\n",
              "    </tr>\n",
              "    <tr>\n",
              "      <th>2</th>\n",
              "      <td>3</td>\n",
              "      <td>60</td>\n",
              "      <td>RL</td>\n",
              "      <td>68.0</td>\n",
              "      <td>11250</td>\n",
              "      <td>Pave</td>\n",
              "      <td>NaN</td>\n",
              "      <td>IR1</td>\n",
              "      <td>Lvl</td>\n",
              "      <td>AllPub</td>\n",
              "      <td>Inside</td>\n",
              "      <td>Gtl</td>\n",
              "      <td>CollgCr</td>\n",
              "      <td>Norm</td>\n",
              "      <td>Norm</td>\n",
              "      <td>1Fam</td>\n",
              "      <td>2Story</td>\n",
              "      <td>7</td>\n",
              "      <td>5</td>\n",
              "      <td>2001</td>\n",
              "      <td>2002</td>\n",
              "      <td>Gable</td>\n",
              "      <td>CompShg</td>\n",
              "      <td>VinylSd</td>\n",
              "      <td>VinylSd</td>\n",
              "      <td>BrkFace</td>\n",
              "      <td>162.0</td>\n",
              "      <td>Gd</td>\n",
              "      <td>TA</td>\n",
              "      <td>PConc</td>\n",
              "      <td>Gd</td>\n",
              "      <td>TA</td>\n",
              "      <td>Mn</td>\n",
              "      <td>GLQ</td>\n",
              "      <td>486</td>\n",
              "      <td>Unf</td>\n",
              "      <td>0</td>\n",
              "      <td>434</td>\n",
              "      <td>920</td>\n",
              "      <td>GasA</td>\n",
              "      <td>...</td>\n",
              "      <td>Y</td>\n",
              "      <td>SBrkr</td>\n",
              "      <td>920</td>\n",
              "      <td>866</td>\n",
              "      <td>0</td>\n",
              "      <td>1786</td>\n",
              "      <td>1</td>\n",
              "      <td>0</td>\n",
              "      <td>2</td>\n",
              "      <td>1</td>\n",
              "      <td>3</td>\n",
              "      <td>1</td>\n",
              "      <td>Gd</td>\n",
              "      <td>6</td>\n",
              "      <td>Typ</td>\n",
              "      <td>1</td>\n",
              "      <td>TA</td>\n",
              "      <td>Attchd</td>\n",
              "      <td>2001.0</td>\n",
              "      <td>RFn</td>\n",
              "      <td>2</td>\n",
              "      <td>608</td>\n",
              "      <td>TA</td>\n",
              "      <td>TA</td>\n",
              "      <td>Y</td>\n",
              "      <td>0</td>\n",
              "      <td>42</td>\n",
              "      <td>0</td>\n",
              "      <td>0</td>\n",
              "      <td>0</td>\n",
              "      <td>0</td>\n",
              "      <td>NaN</td>\n",
              "      <td>NaN</td>\n",
              "      <td>NaN</td>\n",
              "      <td>0</td>\n",
              "      <td>9</td>\n",
              "      <td>2008</td>\n",
              "      <td>WD</td>\n",
              "      <td>Normal</td>\n",
              "      <td>223500</td>\n",
              "    </tr>\n",
              "    <tr>\n",
              "      <th>3</th>\n",
              "      <td>4</td>\n",
              "      <td>70</td>\n",
              "      <td>RL</td>\n",
              "      <td>60.0</td>\n",
              "      <td>9550</td>\n",
              "      <td>Pave</td>\n",
              "      <td>NaN</td>\n",
              "      <td>IR1</td>\n",
              "      <td>Lvl</td>\n",
              "      <td>AllPub</td>\n",
              "      <td>Corner</td>\n",
              "      <td>Gtl</td>\n",
              "      <td>Crawfor</td>\n",
              "      <td>Norm</td>\n",
              "      <td>Norm</td>\n",
              "      <td>1Fam</td>\n",
              "      <td>2Story</td>\n",
              "      <td>7</td>\n",
              "      <td>5</td>\n",
              "      <td>1915</td>\n",
              "      <td>1970</td>\n",
              "      <td>Gable</td>\n",
              "      <td>CompShg</td>\n",
              "      <td>Wd Sdng</td>\n",
              "      <td>Wd Shng</td>\n",
              "      <td>None</td>\n",
              "      <td>0.0</td>\n",
              "      <td>TA</td>\n",
              "      <td>TA</td>\n",
              "      <td>BrkTil</td>\n",
              "      <td>TA</td>\n",
              "      <td>Gd</td>\n",
              "      <td>No</td>\n",
              "      <td>ALQ</td>\n",
              "      <td>216</td>\n",
              "      <td>Unf</td>\n",
              "      <td>0</td>\n",
              "      <td>540</td>\n",
              "      <td>756</td>\n",
              "      <td>GasA</td>\n",
              "      <td>...</td>\n",
              "      <td>Y</td>\n",
              "      <td>SBrkr</td>\n",
              "      <td>961</td>\n",
              "      <td>756</td>\n",
              "      <td>0</td>\n",
              "      <td>1717</td>\n",
              "      <td>1</td>\n",
              "      <td>0</td>\n",
              "      <td>1</td>\n",
              "      <td>0</td>\n",
              "      <td>3</td>\n",
              "      <td>1</td>\n",
              "      <td>Gd</td>\n",
              "      <td>7</td>\n",
              "      <td>Typ</td>\n",
              "      <td>1</td>\n",
              "      <td>Gd</td>\n",
              "      <td>Detchd</td>\n",
              "      <td>1998.0</td>\n",
              "      <td>Unf</td>\n",
              "      <td>3</td>\n",
              "      <td>642</td>\n",
              "      <td>TA</td>\n",
              "      <td>TA</td>\n",
              "      <td>Y</td>\n",
              "      <td>0</td>\n",
              "      <td>35</td>\n",
              "      <td>272</td>\n",
              "      <td>0</td>\n",
              "      <td>0</td>\n",
              "      <td>0</td>\n",
              "      <td>NaN</td>\n",
              "      <td>NaN</td>\n",
              "      <td>NaN</td>\n",
              "      <td>0</td>\n",
              "      <td>2</td>\n",
              "      <td>2006</td>\n",
              "      <td>WD</td>\n",
              "      <td>Abnorml</td>\n",
              "      <td>140000</td>\n",
              "    </tr>\n",
              "    <tr>\n",
              "      <th>4</th>\n",
              "      <td>5</td>\n",
              "      <td>60</td>\n",
              "      <td>RL</td>\n",
              "      <td>84.0</td>\n",
              "      <td>14260</td>\n",
              "      <td>Pave</td>\n",
              "      <td>NaN</td>\n",
              "      <td>IR1</td>\n",
              "      <td>Lvl</td>\n",
              "      <td>AllPub</td>\n",
              "      <td>FR2</td>\n",
              "      <td>Gtl</td>\n",
              "      <td>NoRidge</td>\n",
              "      <td>Norm</td>\n",
              "      <td>Norm</td>\n",
              "      <td>1Fam</td>\n",
              "      <td>2Story</td>\n",
              "      <td>8</td>\n",
              "      <td>5</td>\n",
              "      <td>2000</td>\n",
              "      <td>2000</td>\n",
              "      <td>Gable</td>\n",
              "      <td>CompShg</td>\n",
              "      <td>VinylSd</td>\n",
              "      <td>VinylSd</td>\n",
              "      <td>BrkFace</td>\n",
              "      <td>350.0</td>\n",
              "      <td>Gd</td>\n",
              "      <td>TA</td>\n",
              "      <td>PConc</td>\n",
              "      <td>Gd</td>\n",
              "      <td>TA</td>\n",
              "      <td>Av</td>\n",
              "      <td>GLQ</td>\n",
              "      <td>655</td>\n",
              "      <td>Unf</td>\n",
              "      <td>0</td>\n",
              "      <td>490</td>\n",
              "      <td>1145</td>\n",
              "      <td>GasA</td>\n",
              "      <td>...</td>\n",
              "      <td>Y</td>\n",
              "      <td>SBrkr</td>\n",
              "      <td>1145</td>\n",
              "      <td>1053</td>\n",
              "      <td>0</td>\n",
              "      <td>2198</td>\n",
              "      <td>1</td>\n",
              "      <td>0</td>\n",
              "      <td>2</td>\n",
              "      <td>1</td>\n",
              "      <td>4</td>\n",
              "      <td>1</td>\n",
              "      <td>Gd</td>\n",
              "      <td>9</td>\n",
              "      <td>Typ</td>\n",
              "      <td>1</td>\n",
              "      <td>TA</td>\n",
              "      <td>Attchd</td>\n",
              "      <td>2000.0</td>\n",
              "      <td>RFn</td>\n",
              "      <td>3</td>\n",
              "      <td>836</td>\n",
              "      <td>TA</td>\n",
              "      <td>TA</td>\n",
              "      <td>Y</td>\n",
              "      <td>192</td>\n",
              "      <td>84</td>\n",
              "      <td>0</td>\n",
              "      <td>0</td>\n",
              "      <td>0</td>\n",
              "      <td>0</td>\n",
              "      <td>NaN</td>\n",
              "      <td>NaN</td>\n",
              "      <td>NaN</td>\n",
              "      <td>0</td>\n",
              "      <td>12</td>\n",
              "      <td>2008</td>\n",
              "      <td>WD</td>\n",
              "      <td>Normal</td>\n",
              "      <td>250000</td>\n",
              "    </tr>\n",
              "  </tbody>\n",
              "</table>\n",
              "<p>5 rows × 81 columns</p>\n",
              "</div>"
            ],
            "text/plain": [
              "   Id  MSSubClass MSZoning  ...  SaleType  SaleCondition SalePrice\n",
              "0   1          60       RL  ...        WD         Normal    208500\n",
              "1   2          20       RL  ...        WD         Normal    181500\n",
              "2   3          60       RL  ...        WD         Normal    223500\n",
              "3   4          70       RL  ...        WD        Abnorml    140000\n",
              "4   5          60       RL  ...        WD         Normal    250000\n",
              "\n",
              "[5 rows x 81 columns]"
            ]
          },
          "metadata": {
            "tags": []
          },
          "execution_count": 26
        }
      ]
    },
    {
      "cell_type": "markdown",
      "metadata": {
        "id": "kQ828W0NX2gw"
      },
      "source": [
        "Elaboramos una función que nos permite evaluar el rendimiento de DBScan en estos datos"
      ]
    },
    {
      "cell_type": "code",
      "metadata": {
        "id": "Rpd5jf4uuWZe"
      },
      "source": [
        "def dbscan_outliers(df, \n",
        "                    var1,var2,\n",
        "                    dbscan_eps,\n",
        "                    dbscan_minsample,\n",
        "                    get_cluster_num):\n",
        "    '''Funcion que define los datos escalados que se le pasan y busca outliers mediante DBScan en ellos'''\n",
        "    plt.figure(figsize=(8,8))\n",
        "    \n",
        "    scaler = RobustScaler()\n",
        "    scale_var1 = scaler.fit_transform(pd.DataFrame((df[var1]))).reshape(1,-1)[0]\n",
        "    scale_var2 = scaler.fit_transform(pd.DataFrame((df[var2]))).reshape(1,-1)[0]\n",
        "    \n",
        "    df_temp = pd.DataFrame({\"var1\":scale_var1 ,\n",
        "                            \"var2\":scale_var2})\n",
        "    \n",
        "    clustering = DBSCAN(eps=dbscan_eps, \n",
        "                        min_samples=dbscan_minsample).fit(df_temp.values)\n",
        "    \n",
        "    df_temp[\"c\"] = clustering.labels_\n",
        "    df_temp.index = df.index\n",
        "    sns.scatterplot(scale_var1,scale_var2, \n",
        "                    hue=clustering.labels_)\n",
        "    return df_temp[df_temp[\"c\"]==get_cluster_num].index"
      ],
      "execution_count": 27,
      "outputs": []
    },
    {
      "cell_type": "code",
      "metadata": {
        "colab": {
          "base_uri": "https://localhost:8080/",
          "height": 558
        },
        "id": "uk7JfufNuWZg",
        "outputId": "fe80c92e-3d04-497d-9975-9b2ef72c7dcb"
      },
      "source": [
        "outlier_index = dbscan_outliers(df_houses,\n",
        "                            \"GrLivArea\", \"SalePrice\",\n",
        "                            dbscan_eps=.7,\n",
        "                            dbscan_minsample=100,\n",
        "                            get_cluster_num=-1)\n",
        "\n",
        "print(f\"Outliers identificados: {len(outlier_index)}\")"
      ],
      "execution_count": 28,
      "outputs": [
        {
          "output_type": "stream",
          "text": [
            "/usr/local/lib/python3.7/dist-packages/seaborn/_decorators.py:43: FutureWarning: Pass the following variables as keyword args: x, y. From version 0.12, the only valid positional argument will be `data`, and passing other arguments without an explicit keyword will result in an error or misinterpretation.\n",
            "  FutureWarning\n"
          ],
          "name": "stderr"
        },
        {
          "output_type": "stream",
          "text": [
            "Outliers identificados: 77\n"
          ],
          "name": "stdout"
        },
        {
          "output_type": "display_data",
          "data": {
            "image/png": "[encoded data removed]",
            "text/plain": [
              "<Figure size 576x576 with 1 Axes>"
            ]
          },
          "metadata": {
            "tags": [],
            "needs_background": "light"
          }
        }
      ]
    },
    {
      "cell_type": "markdown",
      "metadata": {
        "id": "yo-8VzGFuWZh"
      },
      "source": [
        "# Isolation Forest"
      ]
    },
    {
      "cell_type": "markdown",
      "metadata": {
        "id": "jc39ppluuWZj"
      },
      "source": [
        "Finalmente vamos a ver la aplicaciónd e uno de los algoritmos más extendidos en la actualidad para la detección de outliers.\n",
        "\n",
        "Esto es debido a su sencillez de implementar y a su eficacia,, como ya hemos visto durante la lección.\n",
        "\n",
        "Para cambiar un poco vamos a realizar este ejercicio empleando la libreria H2O."
      ]
    },
    {
      "cell_type": "code",
      "metadata": {
        "colab": {
          "base_uri": "https://localhost:8080/",
          "height": 546
        },
        "id": "pR9FsZ8PuWZk",
        "outputId": "08087e8b-719f-4d18-f642-4731c480baf7"
      },
      "source": [
        "h2o.init()"
      ],
      "execution_count": 29,
      "outputs": [
        {
          "output_type": "stream",
          "text": [
            "Checking whether there is an H2O instance running at http://localhost:54321 ..... not found.\n",
            "Attempting to start a local H2O server...\n",
            "  Java Version: openjdk version \"11.0.10\" 2021-01-19; OpenJDK Runtime Environment (build 11.0.10+9-Ubuntu-0ubuntu1.18.04); OpenJDK 64-Bit Server VM (build 11.0.10+9-Ubuntu-0ubuntu1.18.04, mixed mode, sharing)\n",
            "  Starting server from /usr/local/lib/python3.7/dist-packages/h2o/backend/bin/h2o.jar\n",
            "  Ice root: /tmp/tmpgkmm95gz\n",
            "  JVM stdout: /tmp/tmpgkmm95gz/h2o_unknownUser_started_from_python.out\n",
            "  JVM stderr: /tmp/tmpgkmm95gz/h2o_unknownUser_started_from_python.err\n",
            "  Server is running at http://127.0.0.1:54321\n",
            "Connecting to H2O server at http://127.0.0.1:54321 ... successful.\n"
          ],
          "name": "stdout"
        },
        {
          "output_type": "display_data",
          "data": {
            "text/html": [
              "<div style=\"overflow:auto\"><table style=\"width:50%\"><tr><td>H2O_cluster_uptime:</td>\n",
              "<td>03 secs</td></tr>\n",
              "<tr><td>H2O_cluster_timezone:</td>\n",
              "<td>Etc/UTC</td></tr>\n",
              "<tr><td>H2O_data_parsing_timezone:</td>\n",
              "<td>UTC</td></tr>\n",
              "<tr><td>H2O_cluster_version:</td>\n",
              "<td>3.32.0.4</td></tr>\n",
              "<tr><td>H2O_cluster_version_age:</td>\n",
              "<td>1 month and 14 days </td></tr>\n",
              "<tr><td>H2O_cluster_name:</td>\n",
              "<td>H2O_from_python_unknownUser_q6m1o3</td></tr>\n",
              "<tr><td>H2O_cluster_total_nodes:</td>\n",
              "<td>1</td></tr>\n",
              "<tr><td>H2O_cluster_free_memory:</td>\n",
              "<td>3.180 Gb</td></tr>\n",
              "<tr><td>H2O_cluster_total_cores:</td>\n",
              "<td>2</td></tr>\n",
              "<tr><td>H2O_cluster_allowed_cores:</td>\n",
              "<td>2</td></tr>\n",
              "<tr><td>H2O_cluster_status:</td>\n",
              "<td>accepting new members, healthy</td></tr>\n",
              "<tr><td>H2O_connection_url:</td>\n",
              "<td>http://127.0.0.1:54321</td></tr>\n",
              "<tr><td>H2O_connection_proxy:</td>\n",
              "<td>{\"http\": null, \"https\": null}</td></tr>\n",
              "<tr><td>H2O_internal_security:</td>\n",
              "<td>False</td></tr>\n",
              "<tr><td>H2O_API_Extensions:</td>\n",
              "<td>Amazon S3, XGBoost, Algos, AutoML, Core V3, TargetEncoder, Core V4</td></tr>\n",
              "<tr><td>Python_version:</td>\n",
              "<td>3.7.10 final</td></tr></table></div>"
            ],
            "text/plain": [
              "--------------------------  ------------------------------------------------------------------\n",
              "H2O_cluster_uptime:         03 secs\n",
              "H2O_cluster_timezone:       Etc/UTC\n",
              "H2O_data_parsing_timezone:  UTC\n",
              "H2O_cluster_version:        3.32.0.4\n",
              "H2O_cluster_version_age:    1 month and 14 days\n",
              "H2O_cluster_name:           H2O_from_python_unknownUser_q6m1o3\n",
              "H2O_cluster_total_nodes:    1\n",
              "H2O_cluster_free_memory:    3.180 Gb\n",
              "H2O_cluster_total_cores:    2\n",
              "H2O_cluster_allowed_cores:  2\n",
              "H2O_cluster_status:         accepting new members, healthy\n",
              "H2O_connection_url:         http://127.0.0.1:54321\n",
              "H2O_connection_proxy:       {\"http\": null, \"https\": null}\n",
              "H2O_internal_security:      False\n",
              "H2O_API_Extensions:         Amazon S3, XGBoost, Algos, AutoML, Core V3, TargetEncoder, Core V4\n",
              "Python_version:             3.7.10 final\n",
              "--------------------------  ------------------------------------------------------------------"
            ]
          },
          "metadata": {
            "tags": []
          }
        }
      ]
    },
    {
      "cell_type": "markdown",
      "metadata": {
        "id": "Ge3QF3vBuWZm"
      },
      "source": [
        "### Lectura de los datos"
      ]
    },
    {
      "cell_type": "markdown",
      "metadata": {
        "id": "ppx_sPRmuWZm"
      },
      "source": [
        "Vamos a leer los datos de los que dispone un departamenteo de Rrecursos humanos de sus trabjadores (ficticios) y vamos a emplear esta información para ver a que clase de trabajadores detecta como extraños nuestro isolation forest"
      ]
    },
    {
      "cell_type": "code",
      "metadata": {
        "colab": {
          "base_uri": "https://localhost:8080/"
        },
        "id": "QDHO-MxHuWZn",
        "outputId": "1965ab4c-8e6c-436e-bb19-ce9452a617ed"
      },
      "source": [
        "employee_data = h2o.import_file('https://raw.githubusercontent.com/jguijarh/The_Valley_outliers_and_residuals/main/HR/HR_info_empleados.csv')"
      ],
      "execution_count": 30,
      "outputs": [
        {
          "output_type": "stream",
          "text": [
            "Parse progress: |█████████████████████████████████████████████████████████| 100%\n"
          ],
          "name": "stdout"
        }
      ]
    },
    {
      "cell_type": "markdown",
      "metadata": {
        "id": "lzmR_3SSuWZo"
      },
      "source": [
        "### Definimos el modelo con H2o\n",
        "\n",
        "La forma de definir el modelo es muy similar a sklearn"
      ]
    },
    {
      "cell_type": "markdown",
      "metadata": {
        "id": "L_-tqdQouWZp"
      },
      "source": [
        "Seleccionamos las features a utilizar para el entrenamiento del modelo"
      ]
    },
    {
      "cell_type": "code",
      "metadata": {
        "id": "OzH_4Yi0uWZp"
      },
      "source": [
        "estimadores = ['Age', 'BusinessTravel', \n",
        "               'DistanceFromHome', 'Education', \n",
        "               'Gender', 'JobInvolvement', 'JobLevel', \n",
        "               'MaritalStatus', 'MonthlyIncome', 'NumCompaniesWorked', \n",
        "               'OverTime', 'PercentSalaryHike',\n",
        "               'PerformanceRating', 'TotalWorkingYears', \n",
        "               'TrainingTimesLastYear', 'YearsAtCompany', \n",
        "               'YearsInCurrentRole', 'YearsSinceLastPromotion', 'YearsWithCurrManager']"
      ],
      "execution_count": 31,
      "outputs": []
    },
    {
      "cell_type": "code",
      "metadata": {
        "id": "ZFC72tTLuWZr",
        "colab": {
          "base_uri": "https://localhost:8080/"
        },
        "outputId": "d80d98e0-3b30-4f3d-b339-f2a29f492467"
      },
      "source": [
        "from h2o.estimators import H2OIsolationForestEstimator\n",
        "isolation_model = H2OIsolationForestEstimator(model_id = \"isolation_forest\", \n",
        "                                              seed = 1993)\n",
        "isolation_model.train(training_frame = employee_data, x = estimadores)"
      ],
      "execution_count": 32,
      "outputs": [
        {
          "output_type": "stream",
          "text": [
            "isolationforest Model Build progress: |███████████████████████████████████| 100%\n"
          ],
          "name": "stdout"
        }
      ]
    },
    {
      "cell_type": "markdown",
      "metadata": {
        "id": "QN9F1NXJuWZt"
      },
      "source": [
        "Lo que nos predice el modelo de h2o es el mena_length, que viene a significar como de profunda es la rama en la que se ha quedado ese registro en función de sus variables para realizar su segregación.\n",
        "\n",
        "Cuanto menor sea este valor, menos divisiones serán necesarias para dividir este registro y por lo tanto más propenso a ser elegido como outlier será.\n",
        "\n",
        "Podemos ver como esto queda verificado con el histograma de este valor, al haber menos valores con un valor pequeño de mean_length"
      ]
    },
    {
      "cell_type": "code",
      "metadata": {
        "id": "90CQVSStuWZv",
        "colab": {
          "base_uri": "https://localhost:8080/",
          "height": 314
        },
        "outputId": "012d67bc-6aed-4ab3-c741-3bf98d15a1ac"
      },
      "source": [
        "predicciones = isolation_model.predict(employee_data)\n",
        "predicciones[\"mean_length\"].hist()"
      ],
      "execution_count": 33,
      "outputs": [
        {
          "output_type": "stream",
          "text": [
            "isolationforest prediction progress: |████████████████████████████████████| 100%\n"
          ],
          "name": "stdout"
        },
        {
          "output_type": "display_data",
          "data": {
            "image/png": "[encoded data removed]",
            "text/plain": [
              "<Figure size 432x288 with 1 Axes>"
            ]
          },
          "metadata": {
            "tags": [],
            "needs_background": "light"
          }
        }
      ]
    },
    {
      "cell_type": "markdown",
      "metadata": {
        "id": "lkocBsbruWZw"
      },
      "source": [
        "A la vista de este histograma, podemos nostros mismos marcar un umbral en el cual identificar los outliers. Esto nos permite un poco más de versatilidad para parametrizar el modelo."
      ]
    },
    {
      "cell_type": "code",
      "metadata": {
        "id": "f5P2IasCuWZw",
        "colab": {
          "base_uri": "https://localhost:8080/"
        },
        "outputId": "8b8fc1ea-8428-47f6-d5a5-606b33cffe13"
      },
      "source": [
        "umbral_outlier = 5.8\n",
        "anomalias = employee_data[predicciones[\"mean_length\"] < umbral_outlier]\n",
        "print(\"Numero de anomalias detectadas: \" + str(anomalias.nrow))"
      ],
      "execution_count": 37,
      "outputs": [
        {
          "output_type": "stream",
          "text": [
            "Numero de anomalias detectadas: 24\n"
          ],
          "name": "stdout"
        }
      ]
    },
    {
      "cell_type": "markdown",
      "metadata": {
        "id": "Qt0DEc72uWZz"
      },
      "source": [
        "Finalmente, calculamos añadimos este valor a nuestro dataframe de entrada al modelo."
      ]
    },
    {
      "cell_type": "code",
      "metadata": {
        "id": "hNRblWsIuWZz",
        "colab": {
          "base_uri": "https://localhost:8080/",
          "height": 83
        },
        "outputId": "147a7a2a-6619-48a5-f9b7-ff40bfc0021f"
      },
      "source": [
        "data_con_outliers = employee_data[:, :]\n",
        "data_con_outliers[\"anomalia\"] = (predicciones[\"mean_length\"] < umbral_outlier).ifelse(\"Si\", \"No\")\n",
        "data_con_outliers[\"anomalia\"].table()"
      ],
      "execution_count": 38,
      "outputs": [
        {
          "output_type": "display_data",
          "data": {
            "text/html": [
              "<table>\n",
              "<thead>\n",
              "<tr><th>anomalia  </th><th style=\"text-align: right;\">  Count</th></tr>\n",
              "</thead>\n",
              "<tbody>\n",
              "<tr><td>No        </td><td style=\"text-align: right;\">   1446</td></tr>\n",
              "<tr><td>Si        </td><td style=\"text-align: right;\">     24</td></tr>\n",
              "</tbody>\n",
              "</table>"
            ]
          },
          "metadata": {
            "tags": []
          }
        },
        {
          "output_type": "execute_result",
          "data": {
            "text/plain": [
              ""
            ]
          },
          "metadata": {
            "tags": []
          },
          "execution_count": 38
        }
      ]
    },
    {
      "cell_type": "markdown",
      "metadata": {
        "id": "QFW-CHZ0uWZ1"
      },
      "source": [
        "UIna vez fuiinalizada la detección podemos convertirlo en pandas dataframe y seguir trabajando een por ejemplo representaciones gráficas de los datos."
      ]
    },
    {
      "cell_type": "code",
      "metadata": {
        "id": "6GKPeQKpuWZ1"
      },
      "source": [
        "df_anomalias = h2o.as_list(data_con_outliers)"
      ],
      "execution_count": 39,
      "outputs": []
    },
    {
      "cell_type": "markdown",
      "metadata": {
        "id": "9UyAB3xVuWZ2"
      },
      "source": [
        "### Scatter plot de años que el empleado lleva en la empresa contra los años que lleva sin promocionar, coloreado por si el registro se considera outlier o no "
      ]
    },
    {
      "cell_type": "code",
      "metadata": {
        "id": "ivOURttmuWZ2",
        "outputId": "8f393eda-11fe-4906-afb4-eea2f60b3994"
      },
      "source": [
        "plt.figure(figsize=(16, 10))\n",
        "sns.scatterplot(x=\"TotalWorkingYears\", y=\"YearsSinceLastPromotion\", hue= 'anomalia',\n",
        "            data=df_anomalias);"
      ],
      "execution_count": null,
      "outputs": [
        {
          "output_type": "display_data",
          "data": {
            "image/png": "[encoded data removed]",
            "text/plain": [
              "<Figure size 1152x720 with 1 Axes>"
            ]
          },
          "metadata": {
            "tags": [],
            "needs_background": "light"
          }
        }
      ]
    },
    {
      "cell_type": "markdown",
      "metadata": {
        "id": "V7C7vED0uWZ3"
      },
      "source": [
        "### Futuros pasos o lineas a investigar\n",
        "\n",
        "1. Para el caso del isolation forest, construid un arbol, que tenga como variable target la anomalia y estudiad los cortes que hace el árbol para ver porque discrimina ciertas regiones de los datos.\n",
        "2. Probar el algoritmo Isolation forest pero con sklearn y usad un volumen de datos más grande. Comparad tiempos."
      ]
    }
  ]
}
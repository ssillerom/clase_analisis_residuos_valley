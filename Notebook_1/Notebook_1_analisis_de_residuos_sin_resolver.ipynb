{
  "nbformat": 4,
  "nbformat_minor": 0,
  "metadata": {
    "colab": {
      "name": "Notebook_1_analisis_de_residuos_sin_resolver.ipynb",
      "provenance": [],
      "collapsed_sections": [],
      "toc_visible": true
    },
    "kernelspec": {
      "display_name": "Python 3",
      "language": "python",
      "name": "python3"
    },
    "language_info": {
      "codemirror_mode": {
        "name": "ipython",
        "version": 3
      },
      "file_extension": ".py",
      "mimetype": "text/x-python",
      "name": "python",
      "nbconvert_exporter": "python",
      "pygments_lexer": "ipython3",
      "version": "3.7.6"
    }
  },
  "cells": [
    {
      "cell_type": "markdown",
      "metadata": {
        "id": "0tPEB59D4l0Z"
      },
      "source": [
        "# Notebook_1_analisis_de_residuos"
      ]
    },
    {
      "cell_type": "markdown",
      "metadata": {
        "id": "pNfQKpBw4l0h"
      },
      "source": [
        "En este notebook vamos a trabajar con modelos de regresion , como las regresiones lineales simples y modelos de árbol"
      ]
    },
    {
      "cell_type": "markdown",
      "metadata": {
        "id": "Yneu40164l0k"
      },
      "source": [
        "## Realizamos los import necesarios para nuestro trabajo"
      ]
    },
    {
      "cell_type": "code",
      "metadata": {
        "id": "CDvgpFix4l0o"
      },
      "source": [
        "import pandas as pd\n",
        "import numpy as np \n",
        "from sklearn.linear_model import LinearRegression\n",
        "import statsmodels.api as sm\n",
        "import statsmodels.tsa.api as smt\n",
        "from sklearn.model_selection import train_test_split\n",
        "from sklearn import tree\n",
        "import seaborn as sns \n",
        "import matplotlib.pyplot as plt"
      ],
      "execution_count": null,
      "outputs": []
    },
    {
      "cell_type": "markdown",
      "metadata": {
        "id": "WJnc29hb4l0s"
      },
      "source": [
        "Algunas configuraciones para llos plot del notebook"
      ]
    },
    {
      "cell_type": "code",
      "metadata": {
        "id": "UzYr6VhM4l0u"
      },
      "source": [
        "%matplotlib inline\n",
        "%config InlineBackend.figure_format ='retina'\n",
        "\n",
        "sns.set_style('darkgrid')\n",
        "sns.mpl.rcParams['figure.figsize'] = (15.0, 9.0)"
      ],
      "execution_count": null,
      "outputs": []
    },
    {
      "cell_type": "markdown",
      "metadata": {
        "id": "GefhNjh84l0y"
      },
      "source": [
        "### Explicación de los problemas que vamos a ver"
      ]
    },
    {
      "cell_type": "markdown",
      "metadata": {
        "id": "PhXkJWYq4l01"
      },
      "source": [
        "En este notebook se van a desarrollar tres ejercicios para observar y poner en practica lo que se ha observado durante la presentación de la sesión en la parte de residuos.\n",
        "\n",
        "Los primeros dos ejercicios, se basan en observar el comportamiento de una regresion lineal en ciertos conjuntos de datos. en ellos se ajustará un modelo de reresión lineal y se llevaran a cabo una serie de comprobaciones que validen la correcta aplicación del modelo.\n",
        "\n",
        "Los siguientes ejercicios trataran la observación y diagnostico de los residuos para distintos modelos."
      ]
    },
    {
      "cell_type": "markdown",
      "metadata": {
        "id": "MU7JVj8h4l05"
      },
      "source": [
        "# Ejercicio 1"
      ]
    },
    {
      "cell_type": "markdown",
      "metadata": {
        "id": "1mp4MhHl4l08"
      },
      "source": [
        "### Leemos los datos\n",
        "\n",
        "Los datos definen a ciertos individuos y sobre ellos se quiere calcular los metros cuadrados de la casa en la que viven."
      ]
    },
    {
      "cell_type": "code",
      "metadata": {
        "id": "amYxtDtP4l0-"
      },
      "source": [
        "datos_propietarios = pd.read_csv('https://raw.githubusercontent.com/jguijarh/The_Valley_outliers_and_residuals/main/data_residuals/data_metros.csv')\n",
        "datos_propietarios.head()"
      ],
      "execution_count": null,
      "outputs": []
    },
    {
      "cell_type": "markdown",
      "metadata": {
        "id": "uqKZMSb34l1J"
      },
      "source": [
        "### Dividar datos en variables dependientes y variables independientes"
      ]
    },
    {
      "cell_type": "markdown",
      "metadata": {
        "id": "TiiMr7G4XVdW"
      },
      "source": [
        "Lllevar a cabo la selección de variables de variables para entrenar y para predecir"
      ]
    },
    {
      "cell_type": "code",
      "metadata": {
        "id": "6KBxRYEM4l1K"
      },
      "source": [
        "X_propietarios = ###\n",
        "Y_propietarios = ###"
      ],
      "execution_count": null,
      "outputs": []
    },
    {
      "cell_type": "markdown",
      "metadata": {
        "id": "BMwitJfr4l1L"
      },
      "source": [
        "### Definir el modelo\n",
        "\n",
        "Definimos y ajustamos un modelo lineal con sklearn "
      ]
    },
    {
      "cell_type": "code",
      "metadata": {
        "id": "Oij2-v6Z4l1M"
      },
      "source": [
        "lin_reg_propietarios = ###\n",
        "\n",
        "### Entrenar el modelo\n",
        "lin_reg_propietarios.### ...\n",
        "\n",
        "print(f'Coefficients: {lin_reg_propietarios.coef_}')\n",
        "print(f'Intercept: {lin_reg_propietarios.intercept_}')\n",
        "print(f'R^2 score: {lin_reg_propietarios.score(X_propietarios, Y_propietarios)}')"
      ],
      "execution_count": null,
      "outputs": []
    },
    {
      "cell_type": "markdown",
      "metadata": {
        "id": "r2qX7HYJ4l1N"
      },
      "source": [
        "### Linealidad de los modelos"
      ]
    },
    {
      "cell_type": "code",
      "metadata": {
        "id": "zv4WJEIi4l1N"
      },
      "source": [
        "def test_de_linealidad(model, X, y):\n",
        "    '''\n",
        "    Funcion para llevar a cabo la visualizacion de la linealidad\n",
        "    '''\n",
        "    ###\n",
        "    \n"
      ],
      "execution_count": null,
      "outputs": []
    },
    {
      "cell_type": "code",
      "metadata": {
        "id": "7GeDS3aY4l1P"
      },
      "source": [
        "test_de_linealidad(lin_reg_propietarios, X_propietarios, Y_propietarios) "
      ],
      "execution_count": null,
      "outputs": []
    },
    {
      "cell_type": "markdown",
      "metadata": {
        "id": "STjg-a2v4l1Q"
      },
      "source": [
        "### Media de los residuos"
      ]
    },
    {
      "cell_type": "code",
      "metadata": {
        "id": "7-On5O4-4l1R"
      },
      "source": [
        "def calcular_media_residuos(model, X, y):\n",
        "    '''\n",
        "    Funcion para llevar a cabo el calcula de la media de residuos\n",
        "    '''\n",
        "   ###"
      ],
      "execution_count": null,
      "outputs": []
    },
    {
      "cell_type": "code",
      "metadata": {
        "id": "rSn-qXfZ4l1T"
      },
      "source": [
        "calcular_media_residuos(lin_reg_propietarios, X_propietarios, Y_propietarios) "
      ],
      "execution_count": null,
      "outputs": []
    },
    {
      "cell_type": "markdown",
      "metadata": {
        "id": "u-_e5FgF4l1f"
      },
      "source": [
        "### Distribución normal  de los residuos"
      ]
    },
    {
      "cell_type": "markdown",
      "metadata": {
        "id": "h1qf5hysXVdp"
      },
      "source": [
        "Queremos observar la distribuci'on de los residuos."
      ]
    },
    {
      "cell_type": "code",
      "metadata": {
        "id": "x8xz5Yn14l1g"
      },
      "source": [
        "def comprobar_normalidad(model, X, y):\n",
        "    '''\n",
        "    Funcion para llevar a cabo la visualizacion de la normalidad\n",
        "    '''\n",
        "    ###"
      ],
      "execution_count": null,
      "outputs": []
    },
    {
      "cell_type": "code",
      "metadata": {
        "id": "kaGzUUHf4l1h"
      },
      "source": [
        "comprobar_normalidad(lin_reg_propietarios, X_propietarios, Y_propietarios) "
      ],
      "execution_count": null,
      "outputs": []
    },
    {
      "cell_type": "markdown",
      "metadata": {
        "id": "iSdqL59o4l1j"
      },
      "source": [
        "#### Test de normalidad en los residuos"
      ]
    },
    {
      "cell_type": "markdown",
      "metadata": {
        "id": "ZobmYAG-4l1k"
      },
      "source": [
        "### Comprobar la homocedasticidad"
      ]
    },
    {
      "cell_type": "code",
      "metadata": {
        "id": "kGZZT5uK4l1k"
      },
      "source": [
        "def test_de_homocedasticidad(model, X, y):\n",
        "    '''\n",
        "    Testeo visual de la homocedasticidad\n",
        "    '''\n",
        "    ###"
      ],
      "execution_count": null,
      "outputs": []
    },
    {
      "cell_type": "code",
      "metadata": {
        "id": "aJgg3NrfXVdr"
      },
      "source": [
        "test_de_homocedasticidad(lin_reg_propietarios, X_propietarios, Y_propietarios) "
      ],
      "execution_count": null,
      "outputs": []
    },
    {
      "cell_type": "markdown",
      "metadata": {
        "id": "2IYIP-rp4l1l"
      },
      "source": [
        "### Comprobar la no autocorrelacion de los residuos"
      ]
    },
    {
      "cell_type": "markdown",
      "metadata": {
        "id": "U9rWoosrXVds"
      },
      "source": [
        "Para testear la autocorrelacion de los residuos emplearemos smt.graphics.plot_acf() que nos permite observar de forma visual estas correlaciones"
      ]
    },
    {
      "cell_type": "code",
      "metadata": {
        "id": "cYTGBFxw4l1m"
      },
      "source": [
        "def test_autocorrelacion(model,X,y):\n",
        "    '''\n",
        "    Testeo visual de la homocedasticidad\n",
        "    '''\n",
        "    ###"
      ],
      "execution_count": null,
      "outputs": []
    },
    {
      "cell_type": "code",
      "metadata": {
        "id": "M3NShTwOXVdt"
      },
      "source": [
        "test_autocorrelacion(lin_reg_propietarios, X_propietarios, Y_propietarios) "
      ],
      "execution_count": null,
      "outputs": []
    },
    {
      "cell_type": "markdown",
      "metadata": {
        "id": "-KkxPqcD4l1n"
      },
      "source": [
        "# Ejercicio 2"
      ]
    },
    {
      "cell_type": "markdown",
      "metadata": {
        "id": "YuQoUTaa4l1n"
      },
      "source": [
        "Vamos a realizar lo mismo que en el ejercicio 1 pero esta vez con los datos de los precios de las viviendas en boston, dataset muy utilizado en el mundo del dato"
      ]
    },
    {
      "cell_type": "markdown",
      "metadata": {
        "id": "Yn123VQY4l1n"
      },
      "source": [
        "### Lectura de los datos para el ejercicio"
      ]
    },
    {
      "cell_type": "code",
      "metadata": {
        "id": "cLVpPm6b4l1o"
      },
      "source": [
        "from sklearn.datasets import load_boston\n",
        "boston = load_boston()\n",
        "\n",
        "X_boston = pd.DataFrame(boston.data, columns=boston.feature_names)\n",
        "X_boston.drop('CHAS', axis=1, inplace=True)\n",
        "Y_boston = pd.Series(boston.target, name='MEDV')\n",
        "\n",
        "# inspect data\n",
        "X_boston.head()"
      ],
      "execution_count": null,
      "outputs": []
    },
    {
      "cell_type": "markdown",
      "metadata": {
        "id": "916FpbiG4l1p"
      },
      "source": [
        "### Definición del modelo a emplear"
      ]
    },
    {
      "cell_type": "markdown",
      "metadata": {
        "id": "7ak-IpcJXVdy"
      },
      "source": [
        "Entrenamos un modelo para predecir sobre los datos del problema del boston house price"
      ]
    },
    {
      "cell_type": "code",
      "metadata": {
        "id": "iho6wpfY4l1q"
      },
      "source": [
        "lin_reg_boston = ###\n",
        "### Entrenar el modelo\n",
        "lin_reg_boston\n",
        "\n",
        "print(f'Coeficientes de la regresion: {lin_reg_boston.coef_}')\n",
        "print(f'Intercepto: {lin_reg_boston.intercept_}')\n",
        "print(f'R^2 score: {lin_reg_boston.score(X_boston, Y_boston)}')"
      ],
      "execution_count": null,
      "outputs": []
    },
    {
      "cell_type": "markdown",
      "metadata": {
        "id": "duwwExJ74l1w"
      },
      "source": [
        "### Linealidad de los modelos"
      ]
    },
    {
      "cell_type": "code",
      "metadata": {
        "id": "QLBAWzKr4l1x"
      },
      "source": [
        "test_de_linealidad(lin_reg_boston, X_boston, Y_boston) "
      ],
      "execution_count": null,
      "outputs": []
    },
    {
      "cell_type": "markdown",
      "metadata": {
        "id": "bjsCc77Z4l1z"
      },
      "source": [
        "### Media de los residuos"
      ]
    },
    {
      "cell_type": "code",
      "metadata": {
        "id": "2shSP4wZ4l1z"
      },
      "source": [
        "calcular_media_residuos(lin_reg_boston, X_boston, Y_boston)"
      ],
      "execution_count": null,
      "outputs": []
    },
    {
      "cell_type": "markdown",
      "metadata": {
        "id": "aqOWcoin4l10"
      },
      "source": [
        "### Distribución normal  de los residuos"
      ]
    },
    {
      "cell_type": "code",
      "metadata": {
        "id": "VgLDZKFd4l11"
      },
      "source": [
        "comprobar_normalidad(lin_reg_boston, X_boston, Y_boston) "
      ],
      "execution_count": null,
      "outputs": []
    },
    {
      "cell_type": "markdown",
      "metadata": {
        "id": "PeQTnqeq4l12"
      },
      "source": [
        "### Comprobar la homocedasticidad"
      ]
    },
    {
      "cell_type": "code",
      "metadata": {
        "id": "23SceMmJ4l13"
      },
      "source": [
        "test_de_homocedasticidad(lin_reg_boston, X_boston, Y_boston) "
      ],
      "execution_count": null,
      "outputs": []
    },
    {
      "cell_type": "markdown",
      "metadata": {
        "id": "8GyIHMYs4l14"
      },
      "source": [
        "### Comprobar la no autocorrelacion de los residuos"
      ]
    },
    {
      "cell_type": "code",
      "metadata": {
        "id": "gaeco3zm4l15"
      },
      "source": [
        "test_autocorrelacion(lin_reg_boston, X_boston, Y_boston)"
      ],
      "execution_count": null,
      "outputs": []
    },
    {
      "cell_type": "markdown",
      "metadata": {
        "id": "nA9Cj_sv4l18"
      },
      "source": [
        "Analizamos las gráficas"
      ]
    },
    {
      "cell_type": "markdown",
      "metadata": {
        "id": "ThGMWM774l19"
      },
      "source": [
        "# Ejercicio 3"
      ]
    },
    {
      "cell_type": "markdown",
      "metadata": {
        "id": "KQvm9a2q4l19"
      },
      "source": [
        "Ahora vamos a probar a implementar un modelo de arbol en el dato de las propiedades de boston y observar como se comporta su diagrama de residuos."
      ]
    },
    {
      "cell_type": "markdown",
      "metadata": {
        "id": "haJOAgt54l19"
      },
      "source": [
        "### Dividimos los datos "
      ]
    },
    {
      "cell_type": "code",
      "metadata": {
        "id": "oTlC5agB4l1_"
      },
      "source": [
        "X_train, X_test, y_train, y_test = train_test_split(X_boston,\n",
        "                                                    Y_boston ,\n",
        "                                                    test_size = 0.3, \n",
        "                                                    random_state = 25)\n",
        "# Definir un árbol con 5 de profundidad y calcular las predicciones\n",
        "tree_model_5 = ###\n",
        "y_train_pred_5 = ###\n",
        "\n",
        "# Definir un árbol con 8 de profundidad y calcular las predicciones\n",
        "tree_model_8 = ###\n",
        "y_train_pred_8 = ###\n",
        "\n",
        "# Definir un árbol con 15 de profundidad y calcular las predicciones\n",
        "tree_model_15 = ###\n",
        "y_train_pred_15 = ###"
      ],
      "execution_count": null,
      "outputs": []
    },
    {
      "cell_type": "markdown",
      "metadata": {
        "id": "5MWAt8KO5DXI"
      },
      "source": [
        "## Visualización de los residuos para un arbol de decisión"
      ]
    },
    {
      "cell_type": "code",
      "metadata": {
        "id": "iivAPd834l2C"
      },
      "source": [
        "def plot_tree_residuals(model,X, y):\n",
        "    '''\n",
        "    Función para visualizar el residual plot de los modelos de arbol. \n",
        "    Es idéntica a la del testeo de la linealidad\n",
        "    '''\n",
        "    ####"
      ],
      "execution_count": null,
      "outputs": []
    },
    {
      "cell_type": "code",
      "metadata": {
        "id": "17f4EkyR4l2C"
      },
      "source": [
        "plot_tree_residuals(tree_model_5, X_train, y_train)"
      ],
      "execution_count": null,
      "outputs": []
    },
    {
      "cell_type": "code",
      "metadata": {
        "id": "pQBE7e0m4l2D"
      },
      "source": [
        "plot_tree_residuals(tree_model_8, X_train, y_train)"
      ],
      "execution_count": null,
      "outputs": []
    },
    {
      "cell_type": "code",
      "metadata": {
        "id": "-lXeSWtm4l2G"
      },
      "source": [
        "plot_tree_residuals(tree_model_15, X_train, y_train)"
      ],
      "execution_count": null,
      "outputs": []
    }
  ]
}